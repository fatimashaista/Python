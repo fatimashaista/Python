{
  "nbformat": 4,
  "nbformat_minor": 0,
  "metadata": {
    "colab": {
      "name": "Python_bootcamp day 4&5.ipynb",
      "provenance": [],
      "collapsed_sections": [],
      "authorship_tag": "ABX9TyPxVoQA5ZRbxJiA6x7uMp/u",
      "include_colab_link": true
    },
    "kernelspec": {
      "name": "python3",
      "display_name": "Python 3"
    },
    "language_info": {
      "name": "python"
    }
  },
  "cells": [
    {
      "cell_type": "markdown",
      "metadata": {
        "id": "view-in-github",
        "colab_type": "text"
      },
      "source": [
        "<a href=\"https://colab.research.google.com/github/fatimashaista/Python/blob/main/Python_bootcamp_day_4%265.ipynb\" target=\"_parent\"><img src=\"https://colab.research.google.com/assets/colab-badge.svg\" alt=\"Open In Colab\"/></a>"
      ]
    },
    {
      "cell_type": "markdown",
      "source": [
        "# 9. Function"
      ],
      "metadata": {
        "id": "gaw8ctDlZkA5"
      }
    },
    {
      "cell_type": "markdown",
      "source": [
        "### Initializing & Calling basic function"
      ],
      "metadata": {
        "id": "LMrycVADZs-b"
      }
    },
    {
      "cell_type": "code",
      "source": [
        "def welcome():\n",
        "  print(\"Welcome to python bootcamp!!!\")\n",
        "  "
      ],
      "metadata": {
        "id": "jkyZGW2eaDfB"
      },
      "execution_count": null,
      "outputs": []
    },
    {
      "cell_type": "code",
      "source": [
        "welcome()"
      ],
      "metadata": {
        "colab": {
          "base_uri": "https://localhost:8080/"
        },
        "id": "ghKFkGz_cQ5c",
        "outputId": "f77b7ec0-8c36-4879-84c7-80d0094e6e89"
      },
      "execution_count": null,
      "outputs": [
        {
          "output_type": "stream",
          "name": "stdout",
          "text": [
            "Welcome to python bootcamp!!!\n"
          ]
        }
      ]
    },
    {
      "cell_type": "markdown",
      "source": [
        "###Initializing & calling basic function with Arguments"
      ],
      "metadata": {
        "id": "C8vkHn73dPer"
      }
    },
    {
      "cell_type": "code",
      "source": [
        "def welcome(a):\n",
        "  print(\"Hello  {0},Welcome to NGCC python bootcamp!!!\". format(a))\n",
        "  "
      ],
      "metadata": {
        "id": "lKBgokvLdsVy"
      },
      "execution_count": null,
      "outputs": []
    },
    {
      "cell_type": "code",
      "source": [
        "welcome(\" champ\")"
      ],
      "metadata": {
        "colab": {
          "base_uri": "https://localhost:8080/"
        },
        "id": "WyTRonxxeQEj",
        "outputId": "7a09ad7b-930d-418b-ce1a-b8461ee34d8a"
      },
      "execution_count": null,
      "outputs": [
        {
          "output_type": "stream",
          "name": "stdout",
          "text": [
            "Hello   champ,Welcome to NGCC python bootcamp!!!\n"
          ]
        }
      ]
    },
    {
      "cell_type": "markdown",
      "source": [
        "#Print & Return"
      ],
      "metadata": {
        "id": "x9vV8qcRgoAX"
      }
    },
    {
      "cell_type": "code",
      "source": [
        "def add(a,b):\n",
        "  add=a+b\n",
        "  print(\"sum of {0} and {1} is {2}\".format(a,b,add))\n"
      ],
      "metadata": {
        "id": "jgt1rNzjg0S2"
      },
      "execution_count": null,
      "outputs": []
    },
    {
      "cell_type": "code",
      "source": [
        "add(10,6)"
      ],
      "metadata": {
        "colab": {
          "base_uri": "https://localhost:8080/"
        },
        "id": "7oyi7eEYhxmF",
        "outputId": "4aab6e1b-ceea-41a0-cba5-a93662256784"
      },
      "execution_count": null,
      "outputs": [
        {
          "output_type": "stream",
          "name": "stdout",
          "text": [
            "sum of 10 and 6 is 16\n"
          ]
        }
      ]
    },
    {
      "cell_type": "code",
      "source": [
        "def addR(a,b):\n",
        "  add=a+b\n",
        "  return add"
      ],
      "metadata": {
        "id": "wqD90GF1j6Ci"
      },
      "execution_count": null,
      "outputs": []
    },
    {
      "cell_type": "code",
      "source": [
        " addR(45,5)\n",
        "  "
      ],
      "metadata": {
        "colab": {
          "base_uri": "https://localhost:8080/"
        },
        "id": "y1DqdQZnkHfh",
        "outputId": "66bfc191-d097-4987-8b95-c2e04d1a9473"
      },
      "execution_count": null,
      "outputs": [
        {
          "output_type": "execute_result",
          "data": {
            "text/plain": [
              "50"
            ]
          },
          "metadata": {},
          "execution_count": 12
        }
      ]
    },
    {
      "cell_type": "markdown",
      "source": [
        "#Practice Project-Extracting prime number"
      ],
      "metadata": {
        "id": "_Srt4utMmiS-"
      }
    },
    {
      "cell_type": "code",
      "source": [
        "def check(numbers):\n",
        "    primeNumber = [] \n",
        "    for number in numbers:\n",
        "      if number>1:\n",
        "        for i in range(2, int(number/2)+1):\n",
        "          if(number%i)==0:\n",
        "            print(number,\"is not a prime number\")\n",
        "            break\n",
        "        else: \n",
        "          print(number,\"is  a prime number\") \n",
        "          primeNumber.append(number)\n",
        "      else:\n",
        "        pass   \n",
        "    return primeNumber      \n",
        "\n"
      ],
      "metadata": {
        "id": "N0kWR02CnKvq"
      },
      "execution_count": null,
      "outputs": []
    },
    {
      "cell_type": "code",
      "source": [
        "check([2,3,4,5,6,7,8,9])"
      ],
      "metadata": {
        "colab": {
          "base_uri": "https://localhost:8080/"
        },
        "id": "SWCNiNTlZYrX",
        "outputId": "09544061-7ca0-445d-bed6-d3e8854d4f87"
      },
      "execution_count": null,
      "outputs": [
        {
          "output_type": "stream",
          "name": "stdout",
          "text": [
            "2 is  a prime number\n",
            "3 is  a prime number\n",
            "4 is not a prime number\n",
            "5 is  a prime number\n",
            "6 is not a prime number\n",
            "7 is  a prime number\n",
            "8 is not a prime number\n",
            "9 is not a prime number\n"
          ]
        },
        {
          "output_type": "execute_result",
          "data": {
            "text/plain": [
              "[2, 3, 5, 7]"
            ]
          },
          "metadata": {},
          "execution_count": 22
        }
      ]
    },
    {
      "cell_type": "markdown",
      "source": [
        "#10 Map Function-Map a function to an iterable object"
      ],
      "metadata": {
        "id": "R9-1jZKycSOh"
      }
    },
    {
      "cell_type": "markdown",
      "source": [
        "### Map Function with the list          "
      ],
      "metadata": {
        "id": "coD5_e8idOPd"
      }
    },
    {
      "cell_type": "markdown",
      "source": [
        ""
      ],
      "metadata": {
        "id": "PMxn7tQFiELP"
      }
    },
    {
      "cell_type": "code",
      "source": [
        "def cubeFn(num):\n",
        "    return num**3"
      ],
      "metadata": {
        "id": "ZztqtUyUgw-M"
      },
      "execution_count": null,
      "outputs": []
    },
    {
      "cell_type": "code",
      "source": [
        "a=[1,2,3,4,5]\n",
        "list(map(cubeFn,a))"
      ],
      "metadata": {
        "colab": {
          "base_uri": "https://localhost:8080/"
        },
        "id": "FGtS3mXuhlaQ",
        "outputId": "386ee4cf-f3f0-499c-bb70-87941fa01d50"
      },
      "execution_count": null,
      "outputs": [
        {
          "output_type": "execute_result",
          "data": {
            "text/plain": [
              "[1, 8, 27, 64, 125]"
            ]
          },
          "metadata": {},
          "execution_count": 24
        }
      ]
    },
    {
      "cell_type": "markdown",
      "source": [
        "# 11.Filter Functions-Yields items of iterable in which is true"
      ],
      "metadata": {
        "id": "m76Lpyp4imUI"
      }
    },
    {
      "cell_type": "code",
      "source": [
        "def evenFn(num):\n",
        "    return num%2==0"
      ],
      "metadata": {
        "id": "c7rHDAOIjkn3"
      },
      "execution_count": null,
      "outputs": []
    },
    {
      "cell_type": "code",
      "source": [
        "a=[0,1,2,3,4,5,6,7,8,9,10]\n",
        "print(list(map(evenFn,a)))\n",
        "print(list(filter(evenFn,a)))"
      ],
      "metadata": {
        "colab": {
          "base_uri": "https://localhost:8080/"
        },
        "id": "PPM00xF6kU8U",
        "outputId": "d4f17f08-4f67-4492-a4cd-9c6987992440"
      },
      "execution_count": null,
      "outputs": [
        {
          "output_type": "stream",
          "name": "stdout",
          "text": [
            "[True, False, True, False, True, False, True, False, True, False, True]\n",
            "[0, 2, 4, 6, 8, 10]\n"
          ]
        }
      ]
    },
    {
      "cell_type": "markdown",
      "source": [
        "# 12.Lambda Fn-To create anonymous funxtions,without using def"
      ],
      "metadata": {
        "id": "o0RPZkXlljhI"
      }
    },
    {
      "cell_type": "code",
      "source": [
        "#Normal Fn\n",
        "def cubeFn(num):\n",
        "    return num**3\n",
        "cubeFn(3)"
      ],
      "metadata": {
        "colab": {
          "base_uri": "https://localhost:8080/"
        },
        "id": "5WaR-_SVmPyr",
        "outputId": "abacadca-a1fd-4ef1-c579-30a9d76a9de2"
      },
      "execution_count": null,
      "outputs": [
        {
          "output_type": "execute_result",
          "data": {
            "text/plain": [
              "27"
            ]
          },
          "metadata": {},
          "execution_count": 27
        }
      ]
    },
    {
      "cell_type": "code",
      "source": [
        "#LAMDA\n",
        "cubeFn=lambda num:num**3\n",
        "cubeFn(5)"
      ],
      "metadata": {
        "colab": {
          "base_uri": "https://localhost:8080/"
        },
        "id": "MxSECXNCnbc_",
        "outputId": "bc3d8de4-aa41-402e-e0dc-8e9901f60b72"
      },
      "execution_count": null,
      "outputs": [
        {
          "output_type": "execute_result",
          "data": {
            "text/plain": [
              "125"
            ]
          },
          "metadata": {},
          "execution_count": 28
        }
      ]
    },
    {
      "cell_type": "markdown",
      "source": [
        "## 13. args and Kwargs"
      ],
      "metadata": {
        "id": "B5q3Ofc7pS3R"
      }
    },
    {
      "cell_type": "code",
      "source": [
        "# Normal function with Arguments\n",
        "def addR(a,b,c):\n",
        "  add=a+b+c\n",
        "  return add\n",
        "addR(10,20,30)"
      ],
      "metadata": {
        "colab": {
          "base_uri": "https://localhost:8080/"
        },
        "id": "DxJmwRaAp0Ie",
        "outputId": "11856d48-283e-4753-fffa-98820f16526d"
      },
      "execution_count": null,
      "outputs": [
        {
          "output_type": "execute_result",
          "data": {
            "text/plain": [
              "60"
            ]
          },
          "metadata": {},
          "execution_count": 30
        }
      ]
    },
    {
      "cell_type": "code",
      "source": [
        "#Purpose of args\n",
        "def addR(*argg):\n",
        "  return  sum(argg)\n",
        "addR(10,20,30,40,52,75,8,5,26,15)"
      ],
      "metadata": {
        "colab": {
          "base_uri": "https://localhost:8080/"
        },
        "id": "_EO7MgKLsKwb",
        "outputId": "090ec716-e591-4b29-8575-f8996b9f2dda"
      },
      "execution_count": null,
      "outputs": [
        {
          "output_type": "execute_result",
          "data": {
            "text/plain": [
              "281"
            ]
          },
          "metadata": {},
          "execution_count": 34
        }
      ]
    },
    {
      "cell_type": "markdown",
      "source": [
        "#kwargs-dictionary of Key/value pair"
      ],
      "metadata": {
        "id": "IAzq2jg-tU_B"
      }
    },
    {
      "cell_type": "code",
      "source": [
        "def func(**kwargs):\n",
        "    if 'name' in kwargs:\n",
        "       print(\"My name is {0}\".format(kwargs['name']))\n",
        "    if 'age' in kwargs:\n",
        "        print(\"My age is {0}\".format(kwargs['age']))\n",
        "    else:\n",
        "        print(\" No key found\")\n",
        "func(name='champ',age=24,cgpa=93)"
      ],
      "metadata": {
        "colab": {
          "base_uri": "https://localhost:8080/"
        },
        "id": "zH9vcf5Kwfin",
        "outputId": "3810b93f-93ed-4a4c-9e7f-1676125703ed"
      },
      "execution_count": null,
      "outputs": [
        {
          "output_type": "stream",
          "name": "stdout",
          "text": [
            "My name is champ\n",
            "My age is 24\n"
          ]
        }
      ]
    },
    {
      "cell_type": "markdown",
      "source": [
        "# 14. Object Oriented Programming"
      ],
      "metadata": {
        "id": "1jN_C_QQwXvD"
      }
    },
    {
      "cell_type": "markdown",
      "source": [
        "### Class"
      ],
      "metadata": {
        "id": "zMsAR6hkxD8v"
      }
    },
    {
      "cell_type": "markdown",
      "source": [
        "### User defined Objects Created X using class-initializing class"
      ],
      "metadata": {
        "id": "MXmqIK1D3HIP"
      }
    },
    {
      "cell_type": "code",
      "source": [
        "class Student1:\n",
        "  print(\"HELLO ALL\")\n",
        "x = Student1() #Object Instantiation \n",
        "print(type(x))"
      ],
      "metadata": {
        "colab": {
          "base_uri": "https://localhost:8080/"
        },
        "id": "VuC285nM6YaE",
        "outputId": "b1db52d5-0b2e-4fec-967d-570a1a65364c"
      },
      "execution_count": null,
      "outputs": [
        {
          "output_type": "stream",
          "name": "stdout",
          "text": [
            "HELLO ALL\n",
            "<class '__main__.Student1'>\n"
          ]
        }
      ]
    },
    {
      "cell_type": "code",
      "source": [
        "class Student:\n",
        "  def func():\n",
        "    print(\"Hello all welcome to the session\")\n",
        "Student.func()"
      ],
      "metadata": {
        "colab": {
          "base_uri": "https://localhost:8080/"
        },
        "id": "MdUZj4x_Xr4f",
        "outputId": "b802185f-c8b4-4c4c-d0b0-52ce7c5e8865"
      },
      "execution_count": null,
      "outputs": [
        {
          "output_type": "stream",
          "name": "stdout",
          "text": [
            "Hello all welcome to the session\n"
          ]
        }
      ]
    },
    {
      "cell_type": "code",
      "source": [
        "class Student:\n",
        "  def func(self):\n",
        "    print(\"Hello all welcome to the session\")\n",
        "x = Student()\n",
        "x.func()"
      ],
      "metadata": {
        "colab": {
          "base_uri": "https://localhost:8080/"
        },
        "id": "BMb_TPDkZb46",
        "outputId": "fd45326e-6d6d-4133-93aa-071915c4e8a9"
      },
      "execution_count": null,
      "outputs": [
        {
          "output_type": "stream",
          "name": "stdout",
          "text": [
            "Hello all welcome to the session\n"
          ]
        }
      ]
    },
    {
      "cell_type": "markdown",
      "source": [
        "##Class Object attribute - same for any instance of the class"
      ],
      "metadata": {
        "id": "y3EX9MfXZrlu"
      }
    },
    {
      "cell_type": "code",
      "source": [
        "class Student:\n",
        "  year = '2021'\n",
        "  def func():\n",
        "    print(\"Hello all welcome to the session\")\n",
        "x = Student()\n",
        "x.year"
      ],
      "metadata": {
        "colab": {
          "base_uri": "https://localhost:8080/",
          "height": 35
        },
        "id": "KsZ48pdyabe7",
        "outputId": "e3ba4369-277c-41b7-fec0-43715fd424fc"
      },
      "execution_count": null,
      "outputs": [
        {
          "output_type": "execute_result",
          "data": {
            "application/vnd.google.colaboratory.intrinsic+json": {
              "type": "string"
            },
            "text/plain": [
              "'2021'"
            ]
          },
          "metadata": {},
          "execution_count": 3
        }
      ]
    },
    {
      "cell_type": "code",
      "source": [
        "class Student:\n",
        "  year = '2021'\n",
        "  def func(self):\n",
        "    print(\"Hello all welcome to the session\", self.year)\n",
        "x = Student()\n",
        "x.func()"
      ],
      "metadata": {
        "colab": {
          "base_uri": "https://localhost:8080/"
        },
        "id": "qwj-5usZasFg",
        "outputId": "879f403c-1335-4c95-b44a-21c370e129bd"
      },
      "execution_count": null,
      "outputs": [
        {
          "output_type": "stream",
          "name": "stdout",
          "text": [
            "Hello all welcome to the session 2021\n"
          ]
        }
      ]
    },
    {
      "cell_type": "markdown",
      "source": [
        "###Attribute of an Object (characteristic of an object) Attribute won't take any argument"
      ],
      "metadata": {
        "id": "8CLGZ_SodLBH"
      }
    },
    {
      "cell_type": "code",
      "source": [
        "class Student:\n",
        "    def __init__(self,name): #__init__ (Method) to initialize attribute of an object (Constructor)\n",
        "        self.name = name #self.name = attribute initialized\n",
        " #(Creating Instance of Student class{Object of certain class})       \n",
        "elon = Student(name='Elon Musk !') #name: argument\n",
        "\n",
        "print(elon.name) #accessing class attribute through object"
      ],
      "metadata": {
        "colab": {
          "base_uri": "https://localhost:8080/"
        },
        "id": "PkOlNz6UdgSV",
        "outputId": "652f624c-96fd-4a74-868a-772c5c367837"
      },
      "execution_count": null,
      "outputs": [
        {
          "output_type": "stream",
          "name": "stdout",
          "text": [
            "Elon Musk !\n"
          ]
        }
      ]
    },
    {
      "cell_type": "code",
      "source": [
        "class Student:\n",
        "    def __init__(self,name): \n",
        "        self.name = name \n",
        "elon = Student(name='Elon Musk !')\n",
        "champ = Student(name='I am Champ !')\n",
        "\n",
        "print(elon.name) \n",
        "print(champ.name)"
      ],
      "metadata": {
        "colab": {
          "base_uri": "https://localhost:8080/"
        },
        "id": "X8XXncW1d-bp",
        "outputId": "60e43555-8824-4d98-911b-8a40eab5b79e"
      },
      "execution_count": null,
      "outputs": [
        {
          "output_type": "stream",
          "name": "stdout",
          "text": [
            "Elon Musk !\n",
            "I am Champ !\n"
          ]
        }
      ]
    },
    {
      "cell_type": "code",
      "source": [
        "class Student:\n",
        "    def __init__(self,name,age): \n",
        "        self.name = name \n",
        "        self.age = age\n",
        "elon = Student(name='Elon Musk !',age=40) \n",
        "\n",
        "print(elon.name)\n",
        "print(elon.age)"
      ],
      "metadata": {
        "colab": {
          "base_uri": "https://localhost:8080/"
        },
        "id": "aERYovfaeR5N",
        "outputId": "cfc142d2-3b37-4fd0-849b-c8820c294749"
      },
      "execution_count": null,
      "outputs": [
        {
          "output_type": "stream",
          "name": "stdout",
          "text": [
            "Elon Musk !\n",
            "40\n"
          ]
        }
      ]
    },
    {
      "cell_type": "code",
      "source": [
        "class Student:\n",
        "    Total = 500\n",
        "\n",
        "    def __init__(self, marks):\n",
        "        self.marks=marks\n",
        "        print(\"Initialized...\")\n",
        "\n",
        "    def findLoss(self):\n",
        "        return self.Total - self.marks\n",
        "\n",
        "    def findPercentage(self):\n",
        "        return self.marks/self.Total*100\n",
        "        \n",
        "a = Student(marks=450)\n",
        "\n",
        "print('Total Marks: ',a.Total)\n",
        "print('Lossed Marks: ',a.findLoss())\n",
        "print('Percentage is: ',a.findPercentage())"
      ],
      "metadata": {
        "colab": {
          "base_uri": "https://localhost:8080/"
        },
        "id": "S-C_2rT4ej4r",
        "outputId": "bd85a02e-2524-4d5e-8a05-710f73fd79ef"
      },
      "execution_count": null,
      "outputs": [
        {
          "output_type": "stream",
          "name": "stdout",
          "text": [
            "Initialized...\n",
            "Total Marks:  500\n",
            "Lossed Marks:  50\n",
            "Percentage is:  90.0\n"
          ]
        }
      ]
    },
    {
      "cell_type": "markdown",
      "source": [
        "###Assigining  more than one variable or attributes"
      ],
      "metadata": {
        "id": "Zh8U36YLjaPu"
      }
    },
    {
      "cell_type": "code",
      "source": [
        "class Student:\n",
        "    Total = 500\n",
        "\n",
        "    def __init__(self, name,marks,gender):\n",
        "        self.name=name\n",
        "        self.marks=marks\n",
        "        self.gender=gender\n",
        "        print(\"Initialized...\")\n",
        "\n",
        "    def __len__(self):\n",
        "        return self.marks\n",
        "\n",
        "    def __str__(self):\n",
        "        return \"Name: %s | Marks: %s | Gender: %s\" %(self.name,self.marks,self.gender)\n",
        "\n",
        "    def __del__(self):\n",
        "        print(\"Student Database is Deleted\")\n",
        "        \n",
        "a = Student('champ',450,'male')\n",
        "\n",
        "print(a)\n",
        "print('Marks: ',len(a))\n"
      ],
      "metadata": {
        "colab": {
          "base_uri": "https://localhost:8080/"
        },
        "id": "Wjdy6CXPiKav",
        "outputId": "8274b95b-4dbc-4ff1-8891-97a1b82d63c6"
      },
      "execution_count": null,
      "outputs": [
        {
          "output_type": "stream",
          "name": "stdout",
          "text": [
            "Initialized...\n",
            "Name: champ | Marks: 450 | Gender: male\n",
            "Marks:  450\n"
          ]
        }
      ]
    },
    {
      "cell_type": "markdown",
      "source": [
        "###Inheritance - Help to reduce complexity of the program parent & child form\n"
      ],
      "metadata": {
        "id": "B57XhqdMkFCY"
      }
    },
    {
      "cell_type": "markdown",
      "source": [
        "### Base Class & Derived Class"
      ],
      "metadata": {
        "id": "RmZwNtXtt2J9"
      }
    },
    {
      "cell_type": "code",
      "source": [
        "class Elon:\n",
        "    def __init__(self):\n",
        "        print(\"Profile created\")\n",
        "\n",
        "    def name(self):\n",
        "        print(\"Elon Musk\")\n",
        "\n",
        "    def age(self):\n",
        "        print(\"40\")\n",
        "\n",
        "\n",
        "class SpaceX(Elon):\n",
        "    def __init__(self):\n",
        "        Elon.__init__(self)\n",
        "        print(\"Company Profile created\")\n",
        "\n",
        "    def name(self):\n",
        "        print(\"SpaceX\")\n",
        "\n",
        "    def type(self):\n",
        "        print(\"Private Space travel\")"
      ],
      "metadata": {
        "id": "7miim-i9kcr7"
      },
      "execution_count": null,
      "outputs": []
    },
    {
      "cell_type": "code",
      "source": [
        "a= SpaceX()"
      ],
      "metadata": {
        "colab": {
          "base_uri": "https://localhost:8080/"
        },
        "id": "TMLB9RyRlUkS",
        "outputId": "a62eb757-7a06-40c4-f3fd-d65455934e1e"
      },
      "execution_count": null,
      "outputs": [
        {
          "output_type": "stream",
          "name": "stdout",
          "text": [
            "Profile created\n",
            "Company Profile created\n"
          ]
        }
      ]
    },
    {
      "cell_type": "code",
      "source": [
        "a.name() #Derived class modified behavior of base class"
      ],
      "metadata": {
        "id": "YLX3z0iklXCK",
        "colab": {
          "base_uri": "https://localhost:8080/"
        },
        "outputId": "46d657ff-d2d0-4ca0-de5a-27702be8d6c8"
      },
      "execution_count": null,
      "outputs": [
        {
          "output_type": "stream",
          "name": "stdout",
          "text": [
            "SpaceX\n"
          ]
        }
      ]
    },
    {
      "cell_type": "code",
      "source": [
        "a.age()"
      ],
      "metadata": {
        "colab": {
          "base_uri": "https://localhost:8080/"
        },
        "id": "I6gC-w47utoi",
        "outputId": "30a876ea-0da6-4e81-8996-046072bc9349"
      },
      "execution_count": null,
      "outputs": [
        {
          "output_type": "stream",
          "name": "stdout",
          "text": [
            "40\n"
          ]
        }
      ]
    },
    {
      "cell_type": "markdown",
      "source": [
        "##Polymorphism"
      ],
      "metadata": {
        "id": "RZlTXVNJvd-G"
      }
    },
    {
      "cell_type": "markdown",
      "source": [
        "#####Different object classes can share the same method name, and those methods can be called from the same place even though a different objects passed in"
      ],
      "metadata": {
        "id": "gix3eA59vxJx"
      }
    },
    {
      "cell_type": "code",
      "source": [
        "class Elon:\n",
        "    def __init__(self,name):\n",
        "        self.name = name\n",
        "    def type(self):\n",
        "        return \"Entrepreneur\"\n",
        "class Sundar:\n",
        "    def __init__(self,name):\n",
        "        self.name = name\n",
        "    def type(self):\n",
        "        return \"CEO\"\n",
        "          \n",
        "person1 = Elon('Elon Musk') #name: argument\n",
        "person2 = Sundar('Sundar Pichai')"
      ],
      "metadata": {
        "id": "9ZgPQYYyvtxO"
      },
      "execution_count": null,
      "outputs": []
    },
    {
      "cell_type": "code",
      "source": [
        "#returning unique result of object which have same method(type)\n",
        "print(person1.type())\n",
        "print(person2.type())"
      ],
      "metadata": {
        "id": "_Pg1kpyaxAaM",
        "colab": {
          "base_uri": "https://localhost:8080/"
        },
        "outputId": "ae5c9b9d-ad6d-4f02-98da-1dacea02fa0e"
      },
      "execution_count": null,
      "outputs": [
        {
          "output_type": "stream",
          "name": "stdout",
          "text": [
            "Entrepreneur\n",
            "CEO\n"
          ]
        }
      ]
    },
    {
      "cell_type": "code",
      "source": [
        "for i in [person1,person2]:\n",
        "  print(i.name)\n",
        "  print(i.type())\n",
        "  print(\"**************\")"
      ],
      "metadata": {
        "colab": {
          "base_uri": "https://localhost:8080/"
        },
        "id": "PdD5JoNUxItS",
        "outputId": "d3fddb6d-4da1-48be-beca-970940a60e19"
      },
      "execution_count": null,
      "outputs": [
        {
          "output_type": "stream",
          "name": "stdout",
          "text": [
            "Elon Musk\n",
            "Entrepreneur\n",
            "**************\n",
            "Sundar Pichai\n",
            "CEO\n",
            "**************\n"
          ]
        }
      ]
    },
    {
      "cell_type": "markdown",
      "source": [
        "###15 .Python Decorators-Functions which modify the functionality of another function/class"
      ],
      "metadata": {
        "id": "uUTf8AMV370_"
      }
    },
    {
      "cell_type": "code",
      "source": [
        "\n",
        "'''@decName\n",
        " def func():\n",
        "  print(\"statement\")\n",
        "\n",
        " EQUAL TO\n",
        " \n",
        " def func():\n",
        "    print(\"statement\")\n",
        "\n",
        " func = decName(func)'''\n"
      ],
      "metadata": {
        "id": "4xxTiVA44qbN"
      },
      "execution_count": null,
      "outputs": []
    },
    {
      "cell_type": "code",
      "source": [
        "\n",
        "'''@decName\n",
        "def func():\n",
        "    print(\"statement\")\n",
        "\n",
        "EQUAL  TO \n",
        "\n",
        "def func():\n",
        "    print(\"statement\")\n",
        "\n",
        "func = decName(func)'''\n",
        "\n"
      ],
      "metadata": {
        "id": "I26j7DzzFw0o"
      },
      "execution_count": null,
      "outputs": []
    },
    {
      "cell_type": "markdown",
      "source": [
        "##Function as Object"
      ],
      "metadata": {
        "id": "3pVE7fRZJv1W"
      }
    },
    {
      "cell_type": "code",
      "source": [
        "def welcome(a):\n",
        "   print(\"Hello {0}, welcome to python bootcamp!!!\".format(a))\n"
      ],
      "metadata": {
        "id": "fKDB79XhKCu8"
      },
      "execution_count": null,
      "outputs": []
    },
    {
      "cell_type": "code",
      "source": [
        "a=welcome #No paranthesis if its parenthesis it is called as function-FUNCTION AS OBJECT\n",
        "a(\"champ\") "
      ],
      "metadata": {
        "colab": {
          "base_uri": "https://localhost:8080/"
        },
        "id": "vJIaDKR-MqVM",
        "outputId": "528d88c3-149d-4d6e-e072-40839e92efbc"
      },
      "execution_count": null,
      "outputs": [
        {
          "output_type": "stream",
          "name": "stdout",
          "text": [
            "Hello champ, welcome to python bootcamp!!!\n"
          ]
        }
      ]
    },
    {
      "cell_type": "code",
      "source": [
        ""
      ],
      "metadata": {
        "id": "oYBR8kgJFcts"
      },
      "execution_count": null,
      "outputs": []
    },
    {
      "cell_type": "markdown",
      "source": [
        "### FUNCTION IN VARIABLE"
      ],
      "metadata": {
        "id": "XDQyiEgqRVGV"
      }
    },
    {
      "cell_type": "code",
      "source": [
        "def lowercase(text):\n",
        "     return text.lower()\n",
        "def uppercase(text):\n",
        "     return text.upper()\n",
        "def a(welcome):\n",
        "    message=welcome(\" Hello all welcome to python bootcamp\") #Function in variable\n",
        "    print(message)\n",
        "a(lowercase)\n",
        "a(uppercase)"
      ],
      "metadata": {
        "colab": {
          "base_uri": "https://localhost:8080/"
        },
        "id": "FfAbZdIlV4oj",
        "outputId": "633ea6b1-b69b-4192-86da-5e9c3b1b5d4f"
      },
      "execution_count": null,
      "outputs": [
        {
          "output_type": "stream",
          "name": "stdout",
          "text": [
            " hello all welcome to python bootcamp\n",
            " HELLO ALL WELCOME TO PYTHON BOOTCAMP\n"
          ]
        }
      ]
    },
    {
      "cell_type": "markdown",
      "source": [
        "###RETURNING FUNCTION FROM ANOTHER FUNCTION"
      ],
      "metadata": {
        "id": "P7LFZnWaivoq"
      }
    },
    {
      "cell_type": "code",
      "source": [
        "def addMain(a):\n",
        " def addSub(b):\n",
        "    print(a,b)\n",
        "    return a+b\n",
        " return addSub\n",
        "\n",
        "addition=addMain(100)\n",
        "print(addition(75))"
      ],
      "metadata": {
        "colab": {
          "base_uri": "https://localhost:8080/"
        },
        "id": "x-n_KyLSi3rH",
        "outputId": "34e18268-8d57-4e40-9b0a-7a41726aceeb"
      },
      "execution_count": null,
      "outputs": [
        {
          "output_type": "stream",
          "name": "stdout",
          "text": [
            "100 75\n",
            "175\n"
          ]
        }
      ]
    },
    {
      "cell_type": "markdown",
      "source": [
        "###16 python Generators-To generate as we go along,instead of holding everything in memory and generator functions will automatically suspend and resume their executation and state around the last point of value generation.This feature is known as state suspention. "
      ],
      "metadata": {
        "id": "_b3x_nFkYZKx"
      }
    },
    {
      "cell_type": "code",
      "source": [
        "def Square(n):\n",
        "   for i in range(n):\n",
        "      yield i**2"
      ],
      "metadata": {
        "id": "lD1e-EJ2aaux"
      },
      "execution_count": null,
      "outputs": []
    },
    {
      "cell_type": "code",
      "source": [
        "for n in Square(10):\n",
        "   print(n)"
      ],
      "metadata": {
        "colab": {
          "base_uri": "https://localhost:8080/"
        },
        "id": "XcrNJ74jbGuA",
        "outputId": "71753e86-c0a3-42fe-d05a-c148a891e66a"
      },
      "execution_count": null,
      "outputs": [
        {
          "output_type": "stream",
          "name": "stdout",
          "text": [
            "0\n",
            "1\n",
            "4\n",
            "9\n",
            "16\n",
            "25\n",
            "36\n",
            "49\n",
            "64\n",
            "81\n"
          ]
        }
      ]
    },
    {
      "cell_type": "markdown",
      "source": [
        "### Builtin  Function-next"
      ],
      "metadata": {
        "id": "iktFBBJRdKmy"
      }
    },
    {
      "cell_type": "code",
      "source": [
        "def Square():\n",
        "    for i in range(n):\n",
        "       yield i**2"
      ],
      "metadata": {
        "id": "1kf7_5xkdmJg"
      },
      "execution_count": null,
      "outputs": []
    },
    {
      "cell_type": "code",
      "source": [
        "a=Square()\n"
      ],
      "metadata": {
        "id": "7hlnMYx7ePuB"
      },
      "execution_count": null,
      "outputs": []
    },
    {
      "cell_type": "code",
      "source": [
        "print(next(a))"
      ],
      "metadata": {
        "colab": {
          "base_uri": "https://localhost:8080/",
          "height": 252
        },
        "id": "L9fMpKL6fSk1",
        "outputId": "37485cf7-b512-4a0e-bb6d-58e543c7fcac"
      },
      "execution_count": null,
      "outputs": [
        {
          "output_type": "error",
          "ename": "NameError",
          "evalue": "ignored",
          "traceback": [
            "\u001b[0;31m---------------------------------------------------------------------------\u001b[0m",
            "\u001b[0;31mNameError\u001b[0m                                 Traceback (most recent call last)",
            "\u001b[0;32m<ipython-input-27-94b12d3903f7>\u001b[0m in \u001b[0;36m<module>\u001b[0;34m()\u001b[0m\n\u001b[0;32m----> 1\u001b[0;31m \u001b[0mprint\u001b[0m\u001b[0;34m(\u001b[0m\u001b[0mnext\u001b[0m\u001b[0;34m(\u001b[0m\u001b[0ma\u001b[0m\u001b[0;34m)\u001b[0m\u001b[0;34m)\u001b[0m\u001b[0;34m\u001b[0m\u001b[0;34m\u001b[0m\u001b[0m\n\u001b[0m",
            "\u001b[0;32m<ipython-input-25-7235acadd650>\u001b[0m in \u001b[0;36mSquare\u001b[0;34m()\u001b[0m\n\u001b[1;32m      1\u001b[0m \u001b[0;32mdef\u001b[0m \u001b[0mSquare\u001b[0m\u001b[0;34m(\u001b[0m\u001b[0;34m)\u001b[0m\u001b[0;34m:\u001b[0m\u001b[0;34m\u001b[0m\u001b[0;34m\u001b[0m\u001b[0m\n\u001b[0;32m----> 2\u001b[0;31m     \u001b[0;32mfor\u001b[0m \u001b[0mi\u001b[0m \u001b[0;32min\u001b[0m \u001b[0mrange\u001b[0m\u001b[0;34m(\u001b[0m\u001b[0mn\u001b[0m\u001b[0;34m)\u001b[0m\u001b[0;34m:\u001b[0m\u001b[0;34m\u001b[0m\u001b[0;34m\u001b[0m\u001b[0m\n\u001b[0m\u001b[1;32m      3\u001b[0m        \u001b[0;32myield\u001b[0m \u001b[0mi\u001b[0m\u001b[0;34m**\u001b[0m\u001b[0;36m2\u001b[0m\u001b[0;34m\u001b[0m\u001b[0;34m\u001b[0m\u001b[0m\n",
            "\u001b[0;31mNameError\u001b[0m: name 'n' is not defined"
          ]
        }
      ]
    },
    {
      "cell_type": "markdown",
      "source": [
        "### Built Function-iter\n"
      ],
      "metadata": {
        "id": "GrVTd6LTgO20"
      }
    },
    {
      "cell_type": "code",
      "source": [
        "a= \"champ\"\n",
        "for i in a:\n",
        "     print(i)"
      ],
      "metadata": {
        "colab": {
          "base_uri": "https://localhost:8080/"
        },
        "id": "xbugbduygqQR",
        "outputId": "7de44afb-f782-455a-e1c1-fe9b62d16b35"
      },
      "execution_count": null,
      "outputs": [
        {
          "output_type": "stream",
          "name": "stdout",
          "text": [
            "c\n",
            "h\n",
            "a\n",
            "m\n",
            "p\n"
          ]
        }
      ]
    }
  ]
}