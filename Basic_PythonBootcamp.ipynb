{
  "cells": [
    {
      "cell_type": "markdown",
      "metadata": {
        "id": "ZDKkIZtpM_mL"
      },
      "source": [
        "### 1. ARITHMETIC OPERATION"
      ]
    },
    {
      "cell_type": "markdown",
      "metadata": {
        "id": "sufuTFEnNg_Z"
      },
      "source": [
        "### Simple Arithmetic"
      ]
    },
    {
      "cell_type": "code",
      "execution_count": null,
      "metadata": {
        "id": "TtfZ-IOgHfGW",
        "outputId": "735ea4c6-1476-4031-dfd4-a5bb653422c0"
      },
      "outputs": [
        {
          "name": "stdout",
          "output_type": "stream",
          "text": [
            "11\n"
          ]
        }
      ],
      "source": [
        "a=5\n",
        "b=6\n",
        "c=a+b\n",
        "print(c)"
      ]
    },
    {
      "cell_type": "markdown",
      "metadata": {
        "id": "cHMpw0heNlMR"
      },
      "source": [
        "### Simple Arithmetic - Get input from User (+,-,*,%)"
      ]
    },
    {
      "cell_type": "code",
      "execution_count": null,
      "metadata": {
        "id": "Vhx4KcUBKOh2",
        "outputId": "56d38ebd-e33a-4351-842c-22d327306ef5"
      },
      "outputs": [
        {
          "name": "stdout",
          "output_type": "stream",
          "text": [
            "Enter the value of a: 1.1\n",
            "Enter the value of b: 2.2\n",
            "3.3000000000000003\n"
          ]
        }
      ],
      "source": [
        "a = float(input(\"Enter the value of a: \"))\n",
        "b = float(input(\"Enter the value of b: \"))\n",
        "add=a+b\n",
        "print(add)"
      ]
    },
    {
      "cell_type": "code",
      "execution_count": null,
      "metadata": {
        "id": "bKxsuv-pNpQe",
        "outputId": "3826ac8d-fb57-4531-a6b0-5af4c0bdb53f"
      },
      "outputs": [
        {
          "name": "stdout",
          "output_type": "stream",
          "text": [
            "Enter the value of a: 1\n",
            "Enter the value of b: 2\n",
            "ADD: 3\n",
            "Sum: 3, Diff: -1, Mult: 2, Div:0.5, Mod:1\n"
          ]
        }
      ],
      "source": [
        "a = int(input(\"Enter the value of a: \"))\n",
        "b = int(input(\"Enter the value of b: \"))\n",
        "add=a+b\n",
        "sub=a-b\n",
        "mult=a*b\n",
        "div=a/b\n",
        "mod=a%b\n",
        "print(\"ADD:\",add)\n",
        "print(\"Sum: {0}, Diff: {1}, Mult: {2}, Div:{3}, Mod:{4}\".format(add,sub,mult,div,mod)) #Print using Format"
      ]
    },
    {
      "cell_type": "code",
      "execution_count": null,
      "metadata": {
        "id": "IjSJ9cjeJSKg",
        "outputId": "5b849472-7345-4c1e-d068-8be85ac9d11a"
      },
      "outputs": [
        {
          "name": "stdout",
          "output_type": "stream",
          "text": [
            "Sum: 3, Diff: -1, Mult: 2, Div:       0.500000, Mod:1\n"
          ]
        }
      ],
      "source": [
        "print(\"Sum: %d, Diff: %d, Mult: %d, Div:%15.6f, Mod:%d\"%(add,sub,mult,div,mod)) #Print using PADDING & PRECISION"
      ]
    },
    {
      "cell_type": "code",
      "execution_count": null,
      "metadata": {
        "id": "HOKG86Pmd2Jz",
        "outputId": "76a6cba4-7326-4658-e0d9-007500ebb560"
      },
      "outputs": [
        {
          "name": "stdout",
          "output_type": "stream",
          "text": [
            "Sum  | Diff | Mult |  Div\n",
            "3    |  -1  |  2   |  0.5\n"
          ]
        }
      ],
      "source": [
        "print('{0:<4} | {1:^4} | {2:^4} | {3:>4}'.format('Sum','Diff','Mult','Div'))\n",
        "print('{0:<4} | {1:^4} | {2:^4} | {3:>4}'.format(add,sub,mult,div))"
      ]
    },
    {
      "cell_type": "markdown",
      "metadata": {
        "id": "qmmK4KwfS-2c"
      },
      "source": [
        "### Simple Arithmetic - Get input from User (power)"
      ]
    },
    {
      "cell_type": "code",
      "execution_count": null,
      "metadata": {
        "id": "8Lbkg5sBTQfB",
        "outputId": "5b889fc0-ae06-4f88-e49f-b301ce059e92"
      },
      "outputs": [
        {
          "name": "stdout",
          "output_type": "stream",
          "text": [
            "8\n"
          ]
        }
      ],
      "source": [
        "a=2\n",
        "b=3\n",
        "power=a**b #Power\n",
        "print(power)"
      ]
    },
    {
      "cell_type": "markdown",
      "metadata": {
        "id": "FVME_SkfM_h8"
      },
      "source": [
        "### 2. STRINGS"
      ]
    },
    {
      "cell_type": "markdown",
      "metadata": {
        "id": "Zlh0wiu_VdvU"
      },
      "source": [
        "### Create String"
      ]
    },
    {
      "cell_type": "code",
      "execution_count": null,
      "metadata": {
        "id": "V-1duhSmVaZY",
        "outputId": "8770a26f-daa9-4c9a-b94e-8a652103ce69"
      },
      "outputs": [
        {
          "name": "stdout",
          "output_type": "stream",
          "text": [
            "PythonBootcamp\n"
          ]
        }
      ],
      "source": [
        "a = 'Python'\n",
        "b = \"Bootcamp\"\n",
        "print(a+b)"
      ]
    },
    {
      "cell_type": "markdown",
      "metadata": {
        "id": "OrUXHr7eWFWI"
      },
      "source": [
        "### Length of String"
      ]
    },
    {
      "cell_type": "code",
      "execution_count": null,
      "metadata": {
        "id": "SDe_zX2FWEZn",
        "outputId": "043454cc-0bac-43cc-ddad-73831bb0f1a2"
      },
      "outputs": [
        {
          "name": "stdout",
          "output_type": "stream",
          "text": [
            "5\n"
          ]
        }
      ],
      "source": [
        "a=\"Champ\"\n",
        "print(len(a))"
      ]
    },
    {
      "cell_type": "code",
      "execution_count": null,
      "metadata": {
        "id": "e_VcXyr1YdSW",
        "outputId": "999bffd3-fa82-4343-cd49-b19c27c0a6b7"
      },
      "outputs": [
        {
          "name": "stdout",
          "output_type": "stream",
          "text": [
            "SSSSS\n"
          ]
        }
      ],
      "source": [
        "a=\"S\"\n",
        "b=a*5\n",
        "print(b)"
      ]
    },
    {
      "cell_type": "markdown",
      "metadata": {
        "id": "C_SUK4nhWf0v"
      },
      "source": [
        "### String Index "
      ]
    },
    {
      "cell_type": "code",
      "execution_count": null,
      "metadata": {
        "id": "aV0n3FvMWlgl",
        "outputId": "2b425a74-b3e4-4593-8313-289295689ded"
      },
      "outputs": [
        {
          "name": "stdout",
          "output_type": "stream",
          "text": [
            "m\n",
            "amp\n",
            "ch\n",
            "p\n",
            "cham\n",
            "cap\n",
            "pmahc\n"
          ]
        }
      ],
      "source": [
        "a=\"champ\"\n",
        "print(a[3]) #identifing the element based on index\n",
        "print(a[2:]) #Grab the remaing elements except upto the Index\n",
        "print(a[:2]) #Grab the elements upto the Index\n",
        "print(a[-1]) #Grab the Last element\n",
        "print(a[:-1]) #Grab the elements except last element\n",
        "print(a[::2]) #Grab everything with 2 steps\n",
        "print(a[::-1]) #Print string backwards"
      ]
    },
    {
      "cell_type": "markdown",
      "metadata": {
        "id": "1Ikxg5ypYumu"
      },
      "source": [
        "### String Functions"
      ]
    },
    {
      "cell_type": "code",
      "execution_count": null,
      "metadata": {
        "id": "0kuA2ylZYwpO",
        "outputId": "4b076fa6-77c7-49d6-e876-8a82f838ed96"
      },
      "outputs": [
        {
          "name": "stdout",
          "output_type": "stream",
          "text": [
            "MASTER PYTHON\n",
            "master python\n"
          ]
        }
      ],
      "source": [
        "a=\"Master Python\"\n",
        "print(a.upper()) #Changing to Upper case\n",
        "print(a.lower()) #Changing to Lowerb= a.split() case"
      ]
    },
    {
      "cell_type": "code",
      "execution_count": null,
      "metadata": {
        "id": "IARDq5yVdp8a",
        "outputId": "adb3ad96-0b25-4f05-ec33-727ba5c09d45"
      },
      "outputs": [
        {
          "name": "stdout",
          "output_type": "stream",
          "text": [
            "['Master', 'Python']\n",
            "Python\n"
          ]
        }
      ],
      "source": [
        "b= a.split() #Splitting String\n",
        "print(b)\n",
        "print(b[1]) #Printing the splitting string based on Index"
      ]
    },
    {
      "cell_type": "code",
      "execution_count": null,
      "metadata": {
        "id": "EBrFZG2eduaB",
        "outputId": "0de707c8-641c-444c-80fe-b1374a91cbd5"
      },
      "outputs": [
        {
          "name": "stdout",
          "output_type": "stream",
          "text": [
            "['ElonMusk', 'SteveJobs', 'BillGates']\n",
            "SteveJobs\n"
          ]
        }
      ],
      "source": [
        "c=\"ElonMusk,SteveJobs,BillGates\"\n",
        "d=c.split(\",\") #Splitting string based on Delimitter\n",
        "print(d)\n",
        "print(d[1])"
      ]
    },
    {
      "cell_type": "code",
      "execution_count": null,
      "metadata": {
        "id": "Zx454moWeA0W",
        "outputId": "a21d263b-24b5-46dd-ce82-4240f0f230b8"
      },
      "outputs": [
        {
          "name": "stdout",
          "output_type": "stream",
          "text": [
            "Welcome to Python Master Class !\n"
          ]
        }
      ],
      "source": [
        "a=\"Master Class\"\n",
        "print(f\"Welcome to Python {a} !\") #Formatting string Literals"
      ]
    },
    {
      "cell_type": "markdown",
      "metadata": {
        "id": "2W2MF7VEex9_"
      },
      "source": [
        "### 3. LIST"
      ]
    },
    {
      "cell_type": "markdown",
      "metadata": {
        "id": "HpPAYPkRfBan"
      },
      "source": [
        "### Create List"
      ]
    },
    {
      "cell_type": "code",
      "execution_count": null,
      "metadata": {
        "id": "bHrBdmWIezyQ",
        "outputId": "997217ca-bd19-4fd5-b54f-9ce3b506cb7c"
      },
      "outputs": [
        {
          "name": "stdout",
          "output_type": "stream",
          "text": [
            "[1, 2, 3, 4, 5] ['Champ', 21, 99.5]\n",
            "3\n",
            "Champ\n",
            "[2, 3, 4, 5]\n",
            "[1, 2]\n",
            "[1, 2, 3, 4, 5, 'Champ', 21, 99.5]\n"
          ]
        }
      ],
      "source": [
        "a = [1,2,3,4,5]\n",
        "b = [\"Champ\",21,99.5]\n",
        "print(a,b)\n",
        "print(len(b)) #Length of List\n",
        "print(b[0]) #Locate list element based on Index\n",
        "print(a[1:]) #print elements except 1st\n",
        "print(a[:2]) #Print elements upto 2nd element\n",
        "print(a+b) #Concatenate 2 list"
      ]
    },
    {
      "cell_type": "code",
      "execution_count": null,
      "metadata": {
        "id": "eMPl3oytgQH4",
        "outputId": "abcb582b-ad7e-4f1a-d364-883e316f31d7"
      },
      "outputs": [
        {
          "name": "stdout",
          "output_type": "stream",
          "text": [
            "[1, 2, 3, 4, 5, 6]\n"
          ]
        }
      ],
      "source": [
        "a = [1,2,3,4,5]\n",
        "a.append(6) #inserting new elements to the existing list\n",
        "print(a)"
      ]
    },
    {
      "cell_type": "code",
      "execution_count": null,
      "metadata": {
        "id": "kdK761TMhAJx",
        "outputId": "651d9589-ac88-4976-d6e1-b7cd1b5daf26"
      },
      "outputs": [
        {
          "name": "stdout",
          "output_type": "stream",
          "text": [
            "[5, 4, 3, 2, 1]\n",
            "1\n",
            "5\n"
          ]
        }
      ],
      "source": [
        "a = [1,2,3,4,5]\n",
        "a.reverse() #Reverse list\n",
        "print(a)\n",
        "print(min(a)) #Minimum\n",
        "print(max(a)) #Maximum "
      ]
    },
    {
      "cell_type": "code",
      "execution_count": null,
      "metadata": {
        "id": "UAMYYkAeAsQI",
        "outputId": "7252082b-83f1-4bb2-a9dd-807bea4e1fd6"
      },
      "outputs": [
        {
          "data": {
            "text/plain": [
              "[3, 4, 5, 1, 2]"
            ]
          },
          "execution_count": 19,
          "metadata": {},
          "output_type": "execute_result"
        }
      ],
      "source": [
        "a = [1,2,3,4,5]\n",
        "from random import shuffle\n",
        "shuffle(a)\n",
        "a"
      ]
    },
    {
      "cell_type": "code",
      "execution_count": null,
      "metadata": {
        "id": "mXeXdfb3hS0L",
        "outputId": "56ddfa24-45e9-4ae2-c668-77b3c3f15e20"
      },
      "outputs": [
        {
          "name": "stdout",
          "output_type": "stream",
          "text": [
            "[[1, 2, 3], [4, 5, 6]]\n",
            "[1, 2, 3]\n",
            "1\n"
          ]
        }
      ],
      "source": [
        "a=[1,2,3]\n",
        "b=[4,5,6]\n",
        "c=[a,b] #Nested List Matrix\n",
        "print(c)\n",
        "print(c[0]) #Printing row\n",
        "print(c[0][0]) #Printing 1st element "
      ]
    },
    {
      "cell_type": "markdown",
      "metadata": {
        "id": "p9h7qc2iiA5W"
      },
      "source": [
        "### 4. DICTIONARIES"
      ]
    },
    {
      "cell_type": "markdown",
      "metadata": {
        "id": "ZeI2uhJYiX_C"
      },
      "source": [
        "### Creating Dictionary : Key & Value"
      ]
    },
    {
      "cell_type": "code",
      "execution_count": null,
      "metadata": {
        "id": "Wth0bhfMiEyj",
        "outputId": "989f6c53-1c19-4ba6-aba8-677afbb7f670"
      },
      "outputs": [
        {
          "data": {
            "text/plain": [
              "{'Name': 'Elon', 'Age': 50, 'Company': ['SpaceX', 'Tesla']}"
            ]
          },
          "execution_count": 21,
          "metadata": {},
          "output_type": "execute_result"
        }
      ],
      "source": [
        "a = {\"Name\":\"Elon\",\"Age\":50,\"Company\":[\"SpaceX\",\"Tesla\"]}\n",
        "a"
      ]
    },
    {
      "cell_type": "code",
      "execution_count": null,
      "metadata": {
        "id": "asOL47w6icRS",
        "outputId": "f23960eb-89c0-49e2-937d-cd8209176c2d"
      },
      "outputs": [
        {
          "name": "stdout",
          "output_type": "stream",
          "text": [
            "Elon\n"
          ]
        },
        {
          "data": {
            "text/plain": [
              "{'Name': 'Elon', 'Age': 51, 'Company': ['SpaceX', 'Tesla']}"
            ]
          },
          "execution_count": 22,
          "metadata": {},
          "output_type": "execute_result"
        }
      ],
      "source": [
        "a = {\"Name\":\"Elon\",\"Age\":50,\"Company\":[\"SpaceX\",\"Tesla\"]}\n",
        "print(a[\"Name\"]) #Printing value based on its Key\n",
        "a[\"Age\"]= 51 #Changing values\n",
        "a"
      ]
    },
    {
      "cell_type": "code",
      "execution_count": null,
      "metadata": {
        "id": "3VcWsp45kIgR",
        "outputId": "a3f71f3f-317e-4b9e-a7b4-4726a102103a"
      },
      "outputs": [
        {
          "name": "stdout",
          "output_type": "stream",
          "text": [
            "70 Percentage\n"
          ]
        }
      ],
      "source": [
        "b={\"Climate\":{\"Condition\":{\"Temperature\":\"38 Degree\",\"Humidity\":\"70 Percentage\"}}}\n",
        "print(b[\"Climate\"][\"Condition\"][\"Humidity\"])"
      ]
    },
    {
      "cell_type": "code",
      "execution_count": null,
      "metadata": {
        "id": "eQVX7s6wk1Mv",
        "outputId": "c28e1b72-6917-4801-8c6e-c8a8f1e73094"
      },
      "outputs": [
        {
          "name": "stdout",
          "output_type": "stream",
          "text": [
            "dict_keys(['Name', 'Age', 'Company'])\n",
            "dict_values(['Elon', 51, ['SpaceX', 'Tesla']])\n",
            "dict_items([('Name', 'Elon'), ('Age', 51), ('Company', ['SpaceX', 'Tesla'])])\n"
          ]
        }
      ],
      "source": [
        "print(a.keys()) #Printing Keys of the Dictionaries\n",
        "print(a.values()) #Printing Values of the Dictionaries\n",
        "print(a.items()) #Printing Tuple of the all items"
      ]
    },
    {
      "cell_type": "markdown",
      "metadata": {
        "id": "iniC2ZLGlo16"
      },
      "source": [
        "### 5. TUPLES"
      ]
    },
    {
      "cell_type": "markdown",
      "metadata": {
        "id": "O7cLAnFxls8O"
      },
      "source": [
        "### Creating Tuples"
      ]
    },
    {
      "cell_type": "code",
      "execution_count": null,
      "metadata": {
        "id": "cOW8W-Eolq9b",
        "outputId": "ebda66da-92b3-4460-ccf8-46df748c59de"
      },
      "outputs": [
        {
          "data": {
            "text/plain": [
              "('Champ', 21, 99.5)"
            ]
          },
          "execution_count": 25,
          "metadata": {},
          "output_type": "execute_result"
        }
      ],
      "source": [
        "a = (\"Champ\",21,99.5)\n",
        "a"
      ]
    },
    {
      "cell_type": "code",
      "execution_count": null,
      "metadata": {
        "id": "6P9GgeT1lzvb",
        "outputId": "2f847d1a-fcab-4b51-fcf0-155591b21a5f"
      },
      "outputs": [
        {
          "name": "stdout",
          "output_type": "stream",
          "text": [
            "3\n",
            "Champ\n",
            "0\n"
          ]
        }
      ],
      "source": [
        "print(len(a)) #Length of tuple\n",
        "print(a[0]) #Printing elements from tuple via index\n",
        "print(a.index(\"Champ\")) #Getting Index of Elements"
      ]
    },
    {
      "cell_type": "markdown",
      "metadata": {
        "id": "CPDJQZ27nBNB"
      },
      "source": [
        "### 6. SETS"
      ]
    },
    {
      "cell_type": "markdown",
      "metadata": {
        "id": "9fRq2c1fnJ-q"
      },
      "source": [
        "### Creating Set"
      ]
    },
    {
      "cell_type": "code",
      "execution_count": null,
      "metadata": {
        "id": "mJnSp_RmnFRh"
      },
      "outputs": [],
      "source": [
        "a = set()"
      ]
    },
    {
      "cell_type": "code",
      "execution_count": null,
      "metadata": {
        "id": "4Dv5syk4nPn9",
        "outputId": "e4d21df7-42a9-42d0-b911-fc41d0de7d76"
      },
      "outputs": [
        {
          "data": {
            "text/plain": [
              "{'Champ'}"
            ]
          },
          "execution_count": 28,
          "metadata": {},
          "output_type": "execute_result"
        }
      ],
      "source": [
        "a.add(\"Champ\")\n",
        "a"
      ]
    },
    {
      "cell_type": "code",
      "execution_count": null,
      "metadata": {
        "id": "oyftaYrmnYUt",
        "outputId": "d3899768-93a8-41f3-ae80-8895448ae4cd"
      },
      "outputs": [
        {
          "data": {
            "text/plain": [
              "{30, 'Champ'}"
            ]
          },
          "execution_count": 29,
          "metadata": {},
          "output_type": "execute_result"
        }
      ],
      "source": [
        "a.add(30)\n",
        "a"
      ]
    },
    {
      "cell_type": "code",
      "execution_count": null,
      "metadata": {
        "id": "OSR4aGAenoAT",
        "outputId": "0568ab0d-ba48-49f4-84d8-68ba73fe136d"
      },
      "outputs": [
        {
          "data": {
            "text/plain": [
              "{21, 99.5, 'Champ'}"
            ]
          },
          "execution_count": 30,
          "metadata": {},
          "output_type": "execute_result"
        }
      ],
      "source": [
        "b = [\"Champ\",21,99.5]\n",
        "set(b)"
      ]
    },
    {
      "cell_type": "markdown",
      "metadata": {
        "id": "W_kyyeDnn1pv"
      },
      "source": [
        "### 7. BOOLEAN"
      ]
    },
    {
      "cell_type": "markdown",
      "metadata": {
        "id": "3kzjcsHUn-RV"
      },
      "source": [
        "### Creating Boolean"
      ]
    },
    {
      "cell_type": "code",
      "execution_count": null,
      "metadata": {
        "id": "3PRhfVm4n4iw"
      },
      "outputs": [],
      "source": [
        "a = True"
      ]
    },
    {
      "cell_type": "code",
      "execution_count": null,
      "metadata": {
        "id": "9rfOJjBboBkk",
        "outputId": "7e518ed0-e5d6-49dc-c34d-df877ffa5862"
      },
      "outputs": [
        {
          "name": "stdout",
          "output_type": "stream",
          "text": [
            "False\n",
            "True\n",
            "False\n",
            "True\n",
            "False\n",
            "True\n",
            "False\n",
            "True\n"
          ]
        }
      ],
      "source": [
        "a = 10\n",
        "b = 5\n",
        "c=15\n",
        "print(a<b)\n",
        "print(a>b)\n",
        "print(a==b)\n",
        "print(a!=b)\n",
        "print(a<=b)\n",
        "print(a>=b)\n",
        "print(a<b and c>a)\n",
        "print(a<b or c>a)"
      ]
    },
    {
      "cell_type": "markdown",
      "metadata": {
        "id": "ouleFIQQw8bR"
      },
      "source": [
        "### 8.Python Statements"
      ]
    },
    {
      "cell_type": "markdown",
      "metadata": {
        "id": "Llr9gACdx8_a"
      },
      "source": [
        "### If"
      ]
    },
    {
      "cell_type": "code",
      "execution_count": null,
      "metadata": {
        "id": "FVnVrqQyxckv",
        "outputId": "d0b76143-84bd-4716-bd55-94ea5d74f414"
      },
      "outputs": [
        {
          "name": "stdout",
          "output_type": "stream",
          "text": [
            "Positive\n"
          ]
        }
      ],
      "source": [
        "a = True\n",
        "if a:\n",
        "  print(\"Positive\")\n",
        "else:\n",
        "  print(\"negative\")"
      ]
    },
    {
      "cell_type": "code",
      "execution_count": null,
      "metadata": {
        "id": "21sn8ZEdz6B4",
        "outputId": "d5c2b5a5-4f8a-4b74-f433-34b0799cc157"
      },
      "outputs": [
        {
          "name": "stdout",
          "output_type": "stream",
          "text": [
            "a is equal to b\n",
            "a is not less than b\n",
            "c is less than b\n"
          ]
        }
      ],
      "source": [
        "a=10\n",
        "b=6\n",
        "c=6\n",
        "\n",
        "if a<b:\n",
        "  print(\"a less than b\")\n",
        "elif c==b:\n",
        "  print(\"a is equal to b\")\n",
        "  print(\"a is not less than b\")\n",
        "  if c<a:\n",
        "    print(\"c is less than b\")\n",
        "else:\n",
        "  print(\"a is not less than b\")"
      ]
    },
    {
      "cell_type": "markdown",
      "metadata": {
        "id": "8PXBa4y_0Tas"
      },
      "source": [
        "### For"
      ]
    },
    {
      "cell_type": "code",
      "execution_count": null,
      "metadata": {
        "id": "TYnMa0YW0VAh",
        "outputId": "539c7059-7a22-48df-9afc-b4ceb5cad5c2"
      },
      "outputs": [
        {
          "name": "stdout",
          "output_type": "stream",
          "text": [
            "1\n",
            "2\n",
            "3\n",
            "4\n",
            "5\n",
            "6\n",
            "7\n",
            "8\n",
            "9\n",
            "10\n"
          ]
        }
      ],
      "source": [
        "a = [1,2,3,4,5,6,7,8,9,10]\n",
        "for i in a:\n",
        "  print(i)"
      ]
    },
    {
      "cell_type": "code",
      "execution_count": null,
      "metadata": {
        "id": "J_dKeL7XIEOX",
        "outputId": "3be474fb-0c90-4719-c0ec-1a911ac74176"
      },
      "outputs": [
        {
          "data": {
            "text/plain": [
              "['C', 'h', 'a', 'm', 'p']"
            ]
          },
          "execution_count": 36,
          "metadata": {},
          "output_type": "execute_result"
        }
      ],
      "source": [
        "a = [i for i in 'Champ']\n",
        "a"
      ]
    },
    {
      "cell_type": "markdown",
      "metadata": {
        "id": "4jtbIiC80zKR"
      },
      "source": [
        "###Odd & Even Number"
      ]
    },
    {
      "cell_type": "code",
      "execution_count": null,
      "metadata": {
        "id": "IBPXEpEu025H",
        "outputId": "eda6144b-bc06-4208-d123-c3b2fb1e85ea"
      },
      "outputs": [
        {
          "name": "stdout",
          "output_type": "stream",
          "text": [
            "1 Odd Number\n",
            "2 Even Number\n",
            "3 Odd Number\n",
            "4 Even Number\n",
            "5 Odd Number\n",
            "6 Even Number\n",
            "7 Odd Number\n",
            "8 Even Number\n",
            "9 Odd Number\n",
            "10 Even Number\n"
          ]
        }
      ],
      "source": [
        "a = [1,2,3,4,5,6,7,8,9,10]\n",
        "for i in a:\n",
        "  if i % 2 == 0:\n",
        "    print(i,\"Even Number\")\n",
        "  else:\n",
        "    print(i,\"Odd Number\")"
      ]
    },
    {
      "cell_type": "markdown",
      "metadata": {
        "id": "YQr4SPiO1p1q"
      },
      "source": [
        "###String - For"
      ]
    },
    {
      "cell_type": "code",
      "execution_count": null,
      "metadata": {
        "id": "3eUBOYZh1s_H",
        "outputId": "1414288f-9fb1-4dec-978f-94b91c159087"
      },
      "outputs": [
        {
          "name": "stdout",
          "output_type": "stream",
          "text": [
            "H\n",
            "e\n",
            "l\n",
            "l\n",
            "o\n",
            " \n",
            "a\n",
            "l\n",
            "l\n"
          ]
        }
      ],
      "source": [
        "for a in \"Hello all\":\n",
        "  print(a)"
      ]
    },
    {
      "cell_type": "markdown",
      "metadata": {
        "id": "WYtBZ7Qy19HO"
      },
      "source": [
        "###Dictionary - For"
      ]
    },
    {
      "cell_type": "code",
      "execution_count": null,
      "metadata": {
        "id": "wUPeD10P1_9p",
        "outputId": "2e63f276-6478-42f5-e853-ea0aa175bf40"
      },
      "outputs": [
        {
          "name": "stdout",
          "output_type": "stream",
          "text": [
            "Name\n",
            "Elon\n",
            "Age\n",
            "50\n",
            "Company\n",
            "['SpaceX', 'Tesla']\n"
          ]
        }
      ],
      "source": [
        "a = {\"Name\":\"Elon\",\"Age\":50,\"Company\":[\"SpaceX\",\"Tesla\"]}\n",
        "for k,v in a.items():\n",
        "  print(k)\n",
        "  print(v)"
      ]
    },
    {
      "cell_type": "markdown",
      "metadata": {
        "id": "mX5M0Iub2lqm"
      },
      "source": [
        "###While"
      ]
    },
    {
      "cell_type": "code",
      "execution_count": null,
      "metadata": {
        "id": "giMPJG_Z2nnN",
        "outputId": "4cc05bfd-488d-412c-ba28-7b3e4f2efcd9"
      },
      "outputs": [
        {
          "name": "stdout",
          "output_type": "stream",
          "text": [
            "0\n",
            "1\n",
            "2\n",
            "3\n",
            "4\n",
            "5\n",
            "6\n",
            "7\n",
            "8\n",
            "9\n",
            "10\n"
          ]
        }
      ],
      "source": [
        "a=0\n",
        "while a <11:\n",
        "  print(a)\n",
        "  a+=1 #a=a+1"
      ]
    },
    {
      "cell_type": "markdown",
      "metadata": {
        "id": "mTt9y0-B5f_4"
      },
      "source": [
        "### While - Break & Continue"
      ]
    },
    {
      "cell_type": "code",
      "execution_count": null,
      "metadata": {
        "id": "Xzqk3wpc5Nvo",
        "outputId": "650c8723-9103-4f7f-f1aa-522ccc98eccd"
      },
      "outputs": [
        {
          "name": "stdout",
          "output_type": "stream",
          "text": [
            "0\n",
            "Continueeee\n",
            "1\n",
            "Continueeee\n",
            "2\n",
            "Continueeee\n",
            "3\n",
            "Continueeee\n",
            "4\n",
            "a is equal to 5\n"
          ]
        }
      ],
      "source": [
        "a=0\n",
        "while a < 10:\n",
        "  print(a)\n",
        "  a+=1\n",
        "  if a==5:\n",
        "    print(\"a is equal to 5\")\n",
        "    break\n",
        "  else:\n",
        "    print(\"Continueeee\")\n",
        "    continue"
      ]
    },
    {
      "cell_type": "markdown",
      "metadata": {
        "id": "eG0qdlq92W8g"
      },
      "source": [
        "###Range"
      ]
    },
    {
      "cell_type": "code",
      "execution_count": null,
      "metadata": {
        "id": "WnACQSNc2Z9X",
        "outputId": "9fb2dd31-74f9-4ba5-b8fc-ca4700d901fd"
      },
      "outputs": [
        {
          "name": "stdout",
          "output_type": "stream",
          "text": [
            "0\n",
            "1\n",
            "2\n",
            "3\n",
            "4\n",
            "5\n"
          ]
        }
      ],
      "source": [
        "for a in range (6):\n",
        "  print(a)"
      ]
    },
    {
      "cell_type": "code",
      "execution_count": null,
      "metadata": {
        "id": "rw8UgmgP56NY",
        "outputId": "d6ab0a24-195e-47eb-a271-6b261593ef11"
      },
      "outputs": [
        {
          "name": "stdout",
          "output_type": "stream",
          "text": [
            "1\n",
            "2\n",
            "3\n",
            "4\n",
            "5\n",
            "6\n",
            "7\n",
            "8\n",
            "9\n"
          ]
        }
      ],
      "source": [
        "for a in range (1,10,1):\n",
        "  print(a)"
      ]
    },
    {
      "cell_type": "code",
      "execution_count": null,
      "metadata": {
        "id": "c3WrFlKy6BtS",
        "outputId": "789f3a2d-409b-4619-abec-89ca2595d53c"
      },
      "outputs": [
        {
          "name": "stdout",
          "output_type": "stream",
          "text": [
            "10\n",
            "7\n",
            "4\n",
            "1\n"
          ]
        }
      ],
      "source": [
        "for a in range (10,0,-3):\n",
        "  print(a)"
      ]
    },
    {
      "cell_type": "code",
      "execution_count": null,
      "metadata": {
        "id": "RhySC28sSmf-",
        "outputId": "3d85e1ee-e8d4-4619-d139-1803b841acb6"
      },
      "outputs": [
        {
          "data": {
            "text/plain": [
              "[0, 1, 4, 9, 16]"
            ]
          },
          "execution_count": 45,
          "metadata": {},
          "output_type": "execute_result"
        }
      ],
      "source": [
        "a = [i**2 for i in range(0,5)]\n",
        "a"
      ]
    },
    {
      "cell_type": "code",
      "execution_count": null,
      "metadata": {
        "id": "CiACxsUxTBJn",
        "outputId": "fcfcd5a6-ecfd-407b-f7c8-a38259cd41ed"
      },
      "outputs": [
        {
          "data": {
            "text/plain": [
              "[0, 2, 4, 6, 8]"
            ]
          },
          "execution_count": 46,
          "metadata": {},
          "output_type": "execute_result"
        }
      ],
      "source": [
        "a = [i for i in range(10) if i % 2 == 0]\n",
        "a"
      ]
    },
    {
      "cell_type": "markdown",
      "metadata": {
        "id": "N03agy3C6GGH"
      },
      "source": [
        "### Enumerate - To track no. of iteration in the loop, without working with variable increament "
      ]
    },
    {
      "cell_type": "code",
      "execution_count": null,
      "metadata": {
        "id": "9AL5CLTl6K7Z",
        "outputId": "da170946-edbb-46e3-ca04-979138dc1560"
      },
      "outputs": [
        {
          "name": "stdout",
          "output_type": "stream",
          "text": [
            "0 H\n",
            "1 e\n",
            "2 l\n",
            "3 l\n",
            "4 o\n",
            "5  \n",
            "6 C\n",
            "7 h\n",
            "8 a\n",
            "9 m\n",
            "10 p\n"
          ]
        }
      ],
      "source": [
        "a=0\n",
        "for i,a in enumerate(\"Hello Champ\"):\n",
        "  print(i,a)"
      ]
    },
    {
      "cell_type": "markdown",
      "metadata": {
        "id": "a6ZRJmEw7QTi"
      },
      "source": [
        "### Zip - Creating a tuples by zipping 2 list"
      ]
    },
    {
      "cell_type": "code",
      "execution_count": null,
      "metadata": {
        "id": "1dXD3Juc8fdv",
        "outputId": "07df5f64-e750-4db0-fd5a-9b96dce17905"
      },
      "outputs": [
        {
          "data": {
            "text/plain": [
              "[('Name', 'Champ'), ('Age', 27), ('Country', 'India')]"
            ]
          },
          "execution_count": 48,
          "metadata": {},
          "output_type": "execute_result"
        }
      ],
      "source": [
        "a = [\"Name\",\"Age\",\"Country\"]\n",
        "b = [\"Champ\",27,\"India\"]\n",
        "list(zip(a,b))"
      ]
    },
    {
      "cell_type": "markdown",
      "metadata": {
        "id": "ojYkLiPMk3O-"
      },
      "source": [
        "##9. Function"
      ]
    },
    {
      "cell_type": "markdown",
      "metadata": {
        "id": "W4ON4k_lk9ZZ"
      },
      "source": [
        "###Initializing & Calling basic function"
      ]
    },
    {
      "cell_type": "code",
      "execution_count": null,
      "metadata": {
        "id": "WnctQ-L7lBut"
      },
      "outputs": [],
      "source": [
        "def welcome():\n",
        "  print(\"Hello guyz Welcome to Python Bootcamp !!!\")"
      ]
    },
    {
      "cell_type": "code",
      "execution_count": null,
      "metadata": {
        "id": "ipA0VzrylM6o",
        "outputId": "faf2f86d-429f-45b4-91f7-07e37c5169df"
      },
      "outputs": [
        {
          "name": "stdout",
          "output_type": "stream",
          "text": [
            "Hello guyz Welcome to Python Bootcamp !!!\n"
          ]
        }
      ],
      "source": [
        "welcome()"
      ]
    },
    {
      "cell_type": "markdown",
      "metadata": {
        "id": "52_g9IUblccX"
      },
      "source": [
        "###Initializing & Calling basic function - With Argument"
      ]
    },
    {
      "cell_type": "code",
      "execution_count": null,
      "metadata": {
        "id": "UPIgpDmEluT8"
      },
      "outputs": [],
      "source": [
        "def welcome(a):\n",
        "  print(\"Hello {0},Welcome to Python Bootcamp !!!\".format(a))"
      ]
    },
    {
      "cell_type": "code",
      "execution_count": null,
      "metadata": {
        "id": "d3EviR9ZmEUz",
        "outputId": "b12e14be-355d-4d62-cbc5-0922b92bd15a"
      },
      "outputs": [
        {
          "name": "stdout",
          "output_type": "stream",
          "text": [
            "Hello Champ,Welcome to Python Bootcamp !!!\n"
          ]
        }
      ],
      "source": [
        "welcome(\"Champ\")"
      ]
    },
    {
      "cell_type": "markdown",
      "metadata": {
        "id": "QRemRrSpmTW2"
      },
      "source": [
        "###Print & Return"
      ]
    },
    {
      "cell_type": "code",
      "execution_count": null,
      "metadata": {
        "id": "GK-KiW9emVCX"
      },
      "outputs": [],
      "source": [
        "def add(a,b):\n",
        "  add = a+b\n",
        "  print(\"Sum of {0} and {1} is {2}\".format(a,b,add))"
      ]
    },
    {
      "cell_type": "code",
      "execution_count": null,
      "metadata": {
        "id": "RvSD3iq9nBPN"
      },
      "outputs": [],
      "source": [
        "def addR(a,b):\n",
        "  add = a+b\n",
        "  return add"
      ]
    },
    {
      "cell_type": "code",
      "execution_count": null,
      "metadata": {
        "id": "rC2YO9hgmyu2",
        "outputId": "7052114e-ae44-4e22-88bf-e81668da4604"
      },
      "outputs": [
        {
          "data": {
            "text/plain": [
              "25000"
            ]
          },
          "execution_count": 55,
          "metadata": {},
          "output_type": "execute_result"
        }
      ],
      "source": [
        "ans = addR(45,5)\n",
        "final = ans*500\n",
        "final"
      ]
    },
    {
      "cell_type": "markdown",
      "metadata": {
        "id": "z3K7AfUoo_ov"
      },
      "source": [
        "## Practice Project - Extracting Prime no."
      ]
    },
    {
      "cell_type": "code",
      "execution_count": null,
      "metadata": {
        "id": "FiqX54lLpHx7"
      },
      "outputs": [],
      "source": [
        "def check(numbers):\n",
        "    primeNumber = []\n",
        "    for number in numbers:\n",
        "      if number>1:\n",
        "        for i in range(2, int(number/2)+1):\n",
        "          if (number % i) == 0:#If number is divisible by any number between 2 and number / 2, it is not prime\n",
        "              print(number, \"is not a prime number\")\n",
        "              break\n",
        "        else:\n",
        "          print(number, \"is a prime number\")\n",
        "          primeNumber.append(number)\n",
        "      else:\n",
        "        pass\n",
        "    return primeNumber"
      ]
    },
    {
      "cell_type": "code",
      "execution_count": null,
      "metadata": {
        "id": "ffLIBac3uLkf",
        "outputId": "bb368e3b-2e32-4859-c78a-5acf7b084738"
      },
      "outputs": [
        {
          "name": "stdout",
          "output_type": "stream",
          "text": [
            "2 is a prime number\n",
            "3 is a prime number\n",
            "4 is not a prime number\n",
            "5 is a prime number\n",
            "6 is not a prime number\n",
            "7 is a prime number\n",
            "8 is not a prime number\n",
            "9 is not a prime number\n"
          ]
        },
        {
          "data": {
            "text/plain": [
              "[2, 3, 5, 7]"
            ]
          },
          "execution_count": 57,
          "metadata": {},
          "output_type": "execute_result"
        }
      ],
      "source": [
        "check([2,3,4,5,6,7,8,9])"
      ]
    },
    {
      "cell_type": "markdown",
      "metadata": {
        "id": "WvgDGjub0mUy"
      },
      "source": [
        "## 10 Map Function - Map a function to an iterable object"
      ]
    },
    {
      "cell_type": "code",
      "execution_count": null,
      "metadata": {
        "id": "K9CKz9vS0s10"
      },
      "outputs": [],
      "source": [
        "def cubeFn(num):\n",
        "    return num**3"
      ]
    },
    {
      "cell_type": "code",
      "execution_count": null,
      "metadata": {
        "id": "JyvYXfSO1fOg",
        "outputId": "415065e8-8f89-4ecb-be7b-7813847153b9"
      },
      "outputs": [
        {
          "data": {
            "text/plain": [
              "[1, 8, 27, 64, 125]"
            ]
          },
          "execution_count": 59,
          "metadata": {},
          "output_type": "execute_result"
        }
      ],
      "source": [
        "a = [1,2,3,4,5]\n",
        "list(map(cubeFn,a))"
      ]
    },
    {
      "cell_type": "markdown",
      "metadata": {
        "id": "vipXo2u627mx"
      },
      "source": [
        "##11. Filter Functions - Yields items of iterable in which function is true"
      ]
    },
    {
      "cell_type": "code",
      "execution_count": null,
      "metadata": {
        "id": "2INUpOMM3Imi"
      },
      "outputs": [],
      "source": [
        "def evenFn(num):\n",
        "    return num % 2 == 0"
      ]
    },
    {
      "cell_type": "code",
      "execution_count": null,
      "metadata": {
        "id": "286arEjk3RgR",
        "outputId": "b183bf4b-de5a-41c4-9b58-5be3e426a9db"
      },
      "outputs": [
        {
          "name": "stdout",
          "output_type": "stream",
          "text": [
            "[True, False, True, False, True, False, True, False, True, False, True]\n",
            "[0, 2, 4, 6, 8, 10]\n"
          ]
        }
      ],
      "source": [
        "a = [0,1,2,3,4,5,6,7,8,9,10]\n",
        "print(list(map(evenFn,a)))\n",
        "print(list(filter(evenFn,a)))"
      ]
    },
    {
      "cell_type": "markdown",
      "metadata": {
        "id": "hW2mAK7F4j0B"
      },
      "source": [
        "## 12. Lambda Fn - To create anonymous functions, without using def"
      ]
    },
    {
      "cell_type": "code",
      "execution_count": null,
      "metadata": {
        "id": "16i6hVjF4o-L",
        "outputId": "32d3d4c6-7358-43ed-fbe1-8f6c710da597"
      },
      "outputs": [
        {
          "data": {
            "text/plain": [
              "216"
            ]
          },
          "execution_count": 62,
          "metadata": {},
          "output_type": "execute_result"
        }
      ],
      "source": [
        "#Normal Fn\n",
        "def cubeFn(num):\n",
        "    return num**3\n",
        "cubeFn(6)"
      ]
    },
    {
      "cell_type": "code",
      "execution_count": null,
      "metadata": {
        "id": "vKXjio_j6a6D",
        "outputId": "815dff8f-2a98-4cc2-e6be-80924054f7d7"
      },
      "outputs": [
        {
          "data": {
            "text/plain": [
              "125"
            ]
          },
          "execution_count": 63,
          "metadata": {},
          "output_type": "execute_result"
        }
      ],
      "source": [
        "# LAMBDA\n",
        "cubefn = lambda num: num**3\n",
        "cubefn(5)"
      ]
    },
    {
      "cell_type": "markdown",
      "metadata": {
        "id": "aTYSC4UtKrE4"
      },
      "source": [
        "##13. *args and **kwargs"
      ]
    },
    {
      "cell_type": "code",
      "execution_count": null,
      "metadata": {
        "id": "xhT8LfhQKxyv",
        "outputId": "89201123-f10f-4d6b-ba87-3d8244247022"
      },
      "outputs": [
        {
          "data": {
            "text/plain": [
              "60"
            ]
          },
          "execution_count": 64,
          "metadata": {},
          "output_type": "execute_result"
        }
      ],
      "source": [
        "#Normal Fn. with Arguements\n",
        "def addR(a,b,c,d):\n",
        "  add = a+b+c\n",
        "  return add\n",
        "addR(10,20,30,40)"
      ]
    },
    {
      "cell_type": "code",
      "execution_count": null,
      "metadata": {
        "id": "vYigcSAgLS8Q",
        "outputId": "3efb5854-bfeb-4d29-db7c-c44063150ed9"
      },
      "outputs": [
        {
          "data": {
            "text/plain": [
              "281"
            ]
          },
          "execution_count": 65,
          "metadata": {},
          "output_type": "execute_result"
        }
      ],
      "source": [
        "#Purpose of args\n",
        "def addR(*argg):\n",
        "  return sum(argg)\n",
        "addR(10,20,30,40,52,75,8,5,26,15)"
      ]
    },
    {
      "cell_type": "markdown",
      "metadata": {
        "id": "7N2de1a0MFeJ"
      },
      "source": [
        "## **Kwargs - dictionary of key/value pairs"
      ]
    },
    {
      "cell_type": "code",
      "execution_count": null,
      "metadata": {
        "id": "Lr5Sxec8MJ2o",
        "outputId": "baef71ef-1053-4ab1-9d0f-10deeb9ea751"
      },
      "outputs": [
        {
          "name": "stdout",
          "output_type": "stream",
          "text": [
            "My Name is champ\n",
            "My Age is 24\n"
          ]
        }
      ],
      "source": [
        "def func(**kwargs):\n",
        "    if 'name' in kwargs:\n",
        "        print(\"My Name is {0}\".format(kwargs['name']))\n",
        "    if 'age' in kwargs:\n",
        "        print(\"My Age is {0}\".format(kwargs['age']))\n",
        "    else:\n",
        "        print(\"No Key Found\")\n",
        "        \n",
        "func(name='champ',age=24,marks=99)"
      ]
    },
    {
      "cell_type": "markdown",
      "metadata": {
        "id": "kt212XUN-uSD"
      },
      "source": [
        "## 14. Object Oriented Programming"
      ]
    },
    {
      "cell_type": "markdown",
      "metadata": {
        "id": "Pa2aHqAsJFSP"
      },
      "source": [
        "##Class"
      ]
    },
    {
      "cell_type": "markdown",
      "metadata": {
        "id": "M-LFDWU4_OVL"
      },
      "source": [
        "### User defined objects created x using Class- Initializing Class "
      ]
    },
    {
      "cell_type": "code",
      "execution_count": null,
      "metadata": {
        "colab": {
          "base_uri": "https://localhost:8080/"
        },
        "id": "45J-c3Gb-0qm",
        "outputId": "c6c64785-658e-4394-9d70-283f29f40ced"
      },
      "outputs": [
        {
          "name": "stdout",
          "output_type": "stream",
          "text": [
            "Hello All\n",
            "<class '__main__.Student'>\n"
          ]
        }
      ],
      "source": [
        "class Student:\n",
        "  print(\"Hello All\")\n",
        "x = Student() #Object Instantiation\n",
        "print(type(x))"
      ]
    },
    {
      "cell_type": "code",
      "execution_count": null,
      "metadata": {
        "colab": {
          "base_uri": "https://localhost:8080/"
        },
        "id": "-3KjafEQoC1k",
        "outputId": "208ff9aa-a3c9-473e-ec6b-ccd2a8c5864b"
      },
      "outputs": [
        {
          "name": "stdout",
          "output_type": "stream",
          "text": [
            "Hello all welcome to the session\n"
          ]
        }
      ],
      "source": [
        "class Student:\n",
        "  def func():\n",
        "    print(\"Hello all welcome to the session\")\n",
        "Student.func()"
      ]
    },
    {
      "cell_type": "code",
      "execution_count": null,
      "metadata": {
        "colab": {
          "base_uri": "https://localhost:8080/"
        },
        "id": "UOyy7xRKAgAj",
        "outputId": "6ab19033-5eb7-4dd3-d00a-31262b96c875"
      },
      "outputs": [
        {
          "name": "stdout",
          "output_type": "stream",
          "text": [
            "Hello all welcome to the session\n"
          ]
        }
      ],
      "source": [
        "class Student:\n",
        "  def func(self):\n",
        "    print(\"Hello all welcome to the session\")\n",
        "x = Student()\n",
        "x.func()"
      ]
    },
    {
      "cell_type": "markdown",
      "metadata": {
        "id": "DmXxSeMuJ7m5"
      },
      "source": [
        "###Class Object attribute - same for any instance of the class"
      ]
    },
    {
      "cell_type": "code",
      "execution_count": null,
      "metadata": {
        "colab": {
          "base_uri": "https://localhost:8080/",
          "height": 34
        },
        "id": "wKr-Vc2IKJ-F",
        "outputId": "e57bf273-b3f6-4b8d-ca64-7aa0ea2cf891"
      },
      "outputs": [
        {
          "data": {
            "text/plain": [
              "'2021'"
            ]
          },
          "execution_count": 70,
          "metadata": {},
          "output_type": "execute_result"
        }
      ],
      "source": [
        "class Student:\n",
        "  year = '2021'\n",
        "  def func():\n",
        "    print(\"Hello all welcome to the session\")\n",
        "x = Student()\n",
        "x.year"
      ]
    },
    {
      "cell_type": "code",
      "execution_count": null,
      "metadata": {
        "colab": {
          "base_uri": "https://localhost:8080/"
        },
        "id": "IuUoPpu7_9Dy",
        "outputId": "052cc598-4239-4ebb-f26f-f25f6fb1ac4f"
      },
      "outputs": [
        {
          "name": "stdout",
          "output_type": "stream",
          "text": [
            "Hello all welcome to the session 2021\n"
          ]
        }
      ],
      "source": [
        "class Student:\n",
        "  year = '2021'\n",
        "  def func(self):\n",
        "    print(\"Hello all welcome to the session\", self.year)\n",
        "x = Student()\n",
        "x.func()"
      ]
    },
    {
      "cell_type": "markdown",
      "metadata": {
        "id": "J0rhBerZ_yEZ"
      },
      "source": [
        "### Attribute of an Object (characteristic of an object) Attribute won't take any argument"
      ]
    },
    {
      "cell_type": "code",
      "execution_count": null,
      "metadata": {
        "colab": {
          "base_uri": "https://localhost:8080/"
        },
        "id": "BiaQNBOJ_3X_",
        "outputId": "d1bba0de-97a6-44ec-e5c2-e093f57a7d5f"
      },
      "outputs": [
        {
          "name": "stdout",
          "output_type": "stream",
          "text": [
            "Elon Musk !\n"
          ]
        }
      ],
      "source": [
        "class Student:\n",
        "    def __init__(self,name): #__init__ (Method) to initialize attribute of an object (Constructor)\n",
        "        self.name = name #self.name = attribute initialized\n",
        " #(Creating Instance of Student class{Object of certain class})       \n",
        "elon = Student(name='Elon Musk !') #name: argument\n",
        "\n",
        "print(elon.name) #accessing class attribute through object"
      ]
    },
    {
      "cell_type": "code",
      "execution_count": null,
      "metadata": {
        "colab": {
          "base_uri": "https://localhost:8080/"
        },
        "id": "s-qEmQigH3Ej",
        "outputId": "1cc8c8c2-247b-4c84-e263-ac96fbc48282"
      },
      "outputs": [
        {
          "name": "stdout",
          "output_type": "stream",
          "text": [
            "Elon Musk !\n",
            "I am Champ !\n"
          ]
        }
      ],
      "source": [
        "class Student:\n",
        "    def __init__(self,name): \n",
        "        self.name = name \n",
        "elon = Student(name='Elon Musk !')\n",
        "champ = Student(name='I am Champ !')\n",
        "\n",
        "print(elon.name) \n",
        "print(champ.name)"
      ]
    },
    {
      "cell_type": "code",
      "execution_count": null,
      "metadata": {
        "colab": {
          "base_uri": "https://localhost:8080/"
        },
        "id": "oQKTzI4fIA1S",
        "outputId": "6762ac4f-dd64-41ea-debd-d4640770e4eb"
      },
      "outputs": [
        {
          "name": "stdout",
          "output_type": "stream",
          "text": [
            "Elon Musk !\n",
            "40\n"
          ]
        }
      ],
      "source": [
        "class Student:\n",
        "    def __init__(self,name,age): \n",
        "        self.name = name \n",
        "        self.age = age\n",
        "elon = Student(name='Elon Musk !',age=40) \n",
        "\n",
        "print(elon.name)\n",
        "print(elon.age)"
      ]
    },
    {
      "cell_type": "code",
      "execution_count": null,
      "metadata": {
        "colab": {
          "base_uri": "https://localhost:8080/"
        },
        "id": "_1cWnX5kLSAp",
        "outputId": "87c2c57a-d616-4ee3-9cc3-6c16f1bd67d4"
      },
      "outputs": [
        {
          "name": "stdout",
          "output_type": "stream",
          "text": [
            "Initialized...\n",
            "Total Marks:  500\n",
            "Lossed Marks:  50\n",
            "Percentage is:  90.0\n"
          ]
        }
      ],
      "source": [
        "class Student:\n",
        "    Total = 500\n",
        "\n",
        "    def __init__(self, marks):\n",
        "        self.marks=marks\n",
        "        print(\"Initialized...\")\n",
        "\n",
        "    def findLoss(self):\n",
        "        return self.Total - self.marks\n",
        "\n",
        "    def findPercentage(self):\n",
        "        return self.marks/self.Total*100\n",
        "        \n",
        "a = Student(marks=450)\n",
        "\n",
        "print('Total Marks: ',a.Total)\n",
        "print('Lossed Marks: ',a.findLoss())\n",
        "print('Percentage is: ',a.findPercentage())"
      ]
    },
    {
      "cell_type": "markdown",
      "metadata": {
        "id": "XrfoEB_4Suri"
      },
      "source": [
        "##Special Methods"
      ]
    },
    {
      "cell_type": "code",
      "execution_count": null,
      "metadata": {
        "colab": {
          "base_uri": "https://localhost:8080/"
        },
        "id": "wwTH6ilFStgx",
        "outputId": "07152037-b921-4805-bda9-6878f2a2deff"
      },
      "outputs": [
        {
          "name": "stdout",
          "output_type": "stream",
          "text": [
            "Initialized...\n",
            "Name: champ | Marks: 450 | Gender: male\n",
            "Marks:  450\n",
            "Student Database is Deleted\n"
          ]
        }
      ],
      "source": [
        "class Student:\n",
        "    Total = 500\n",
        "\n",
        "    def __init__(self, name,marks,gender):\n",
        "        self.name=name\n",
        "        self.marks=marks\n",
        "        self.gender=gender\n",
        "        print(\"Initialized...\")\n",
        "\n",
        "    def __len__(self):\n",
        "        return self.marks\n",
        "\n",
        "    def __str__(self):\n",
        "        return \"Name: %s | Marks: %s | Gender: %s\" %(self.name,self.marks,self.gender)\n",
        "\n",
        "    def __del__(self):\n",
        "        print(\"Student Database is Deleted\")\n",
        "        \n",
        "a = Student('champ',450,'male')\n",
        "\n",
        "print(a)\n",
        "print('Marks: ',len(a))\n",
        "del a"
      ]
    },
    {
      "cell_type": "markdown",
      "metadata": {
        "id": "0yrDcQ_yJIxl"
      },
      "source": [
        "##Inheritance - Help to reduce complexity of the program"
      ]
    },
    {
      "cell_type": "markdown",
      "metadata": {
        "id": "AUUJrN0yJRBC"
      },
      "source": [
        "Base Class & Derived Class\n"
      ]
    },
    {
      "cell_type": "code",
      "execution_count": null,
      "metadata": {
        "id": "bmaq1VAKJK1f"
      },
      "outputs": [],
      "source": [
        "class Elon:\n",
        "    def __init__(self):\n",
        "        print(\"Profile created\")\n",
        "\n",
        "    def name(self):\n",
        "        print(\"Elon Musk\")\n",
        "\n",
        "    def age(self):\n",
        "        print(\"40\")\n",
        "\n",
        "\n",
        "class SpaceX(Elon):\n",
        "    def __init__(self):\n",
        "        Elon.__init__(self)\n",
        "        print(\"Company Profile created\")\n",
        "\n",
        "    def name(self):\n",
        "        print(\"SpaceX\")\n",
        "\n",
        "    def type(self):\n",
        "        print(\"Private Space travel\")"
      ]
    },
    {
      "cell_type": "code",
      "execution_count": null,
      "metadata": {
        "colab": {
          "base_uri": "https://localhost:8080/"
        },
        "id": "Wq8SsopaKpMj",
        "outputId": "55feeba0-2e35-4a6d-e64d-f818f04b41d1"
      },
      "outputs": [
        {
          "name": "stdout",
          "output_type": "stream",
          "text": [
            "Profile created\n",
            "Company Profile created\n"
          ]
        }
      ],
      "source": [
        "a = SpaceX()"
      ]
    },
    {
      "cell_type": "code",
      "execution_count": null,
      "metadata": {
        "colab": {
          "base_uri": "https://localhost:8080/"
        },
        "id": "UralpbdlKybr",
        "outputId": "20f93787-a802-4273-f915-78a94a48d316"
      },
      "outputs": [
        {
          "name": "stdout",
          "output_type": "stream",
          "text": [
            "SpaceX\n"
          ]
        }
      ],
      "source": [
        "a.name() #Derived class modified behavior of base class"
      ]
    },
    {
      "cell_type": "code",
      "execution_count": null,
      "metadata": {
        "colab": {
          "base_uri": "https://localhost:8080/"
        },
        "id": "lXR_EqHrLL7K",
        "outputId": "b82817c8-ac7d-438b-e5de-4b1ce346dd77"
      },
      "outputs": [
        {
          "name": "stdout",
          "output_type": "stream",
          "text": [
            "40\n"
          ]
        }
      ],
      "source": [
        "a.age()"
      ]
    },
    {
      "cell_type": "markdown",
      "metadata": {
        "id": "2UBoH4JCNR8P"
      },
      "source": [
        "##Polymorphism"
      ]
    },
    {
      "cell_type": "markdown",
      "metadata": {
        "id": "fWnouhhkN7Hj"
      },
      "source": [
        "Different object classes can share the same method name, and those methods can be called from the same place even though a different objects passed in"
      ]
    },
    {
      "cell_type": "code",
      "execution_count": null,
      "metadata": {
        "id": "DmVx8KIFNUfo"
      },
      "outputs": [],
      "source": [
        "class Elon:\n",
        "    def __init__(self,name):\n",
        "        self.name = name\n",
        "    def type(self):\n",
        "        return \"Entrepreneur\"\n",
        "class Sundar:\n",
        "    def __init__(self,name):\n",
        "        self.name = name\n",
        "    def type(self):\n",
        "        return \"CEO\"\n",
        "          \n",
        "person1 = Elon('Elon Musk') #name: argument\n",
        "person2 = Sundar('Sundar Pichai')"
      ]
    },
    {
      "cell_type": "code",
      "execution_count": null,
      "metadata": {
        "colab": {
          "base_uri": "https://localhost:8080/"
        },
        "id": "kog_vsA9Qf70",
        "outputId": "57242753-7c3d-4735-dfab-ffc7138ca9f2"
      },
      "outputs": [
        {
          "name": "stdout",
          "output_type": "stream",
          "text": [
            "Entrepreneur\n",
            "CEO\n"
          ]
        }
      ],
      "source": [
        "#returning unique result of object which have same method(type)\n",
        "print(person1.type())\n",
        "print(person2.type())"
      ]
    },
    {
      "cell_type": "code",
      "execution_count": null,
      "metadata": {
        "colab": {
          "base_uri": "https://localhost:8080/"
        },
        "id": "UINc_PX7RC3f",
        "outputId": "f18fb99b-9fb8-4b81-ced5-57fb861c7c73"
      },
      "outputs": [
        {
          "name": "stdout",
          "output_type": "stream",
          "text": [
            "Elon Musk\n",
            "Entrepreneur\n",
            "**************\n",
            "Sundar Pichai\n",
            "CEO\n",
            "**************\n"
          ]
        }
      ],
      "source": [
        "for i in [person1,person2]:\n",
        "  print(i.name)\n",
        "  print(i.type())\n",
        "  print(\"**************\")"
      ]
    },
    {
      "cell_type": "code",
      "execution_count": null,
      "metadata": {
        "id": "CPYWsjqYTYgI"
      },
      "outputs": [],
      "source": []
    },
    {
      "cell_type": "code",
      "execution_count": null,
      "metadata": {
        "id": "MuP-i5A7TYgI"
      },
      "outputs": [],
      "source": []
    }
  ],
  "metadata": {
    "colab": {
      "collapsed_sections": [],
      "name": "PythonBootcamp.ipynb",
      "provenance": []
    },
    "kernelspec": {
      "display_name": "Python 3",
      "language": "python",
      "name": "python3"
    },
    "language_info": {
      "codemirror_mode": {
        "name": "ipython",
        "version": 3
      },
      "file_extension": ".py",
      "mimetype": "text/x-python",
      "name": "python",
      "nbconvert_exporter": "python",
      "pygments_lexer": "ipython3",
      "version": "3.8.8"
    }
  },
  "nbformat": 4,
  "nbformat_minor": 0
}