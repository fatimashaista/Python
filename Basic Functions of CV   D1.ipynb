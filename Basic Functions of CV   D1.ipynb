{
  "cells": [
    {
      "cell_type": "markdown",
      "id": "31836618",
      "metadata": {
        "id": "31836618"
      },
      "source": [
        "# Computer Vision"
      ]
    },
    {
      "cell_type": "markdown",
      "id": "909a4f0b",
      "metadata": {
        "id": "909a4f0b"
      },
      "source": [
        "### Day 1 Read,Display,and Save an image"
      ]
    },
    {
      "cell_type": "code",
      "execution_count": null,
      "id": "e43ba6ed",
      "metadata": {
        "id": "e43ba6ed",
        "outputId": "90543063-7ec6-4d3c-cafe-9dd4fe45b5f4"
      },
      "outputs": [
        {
          "name": "stderr",
          "output_type": "stream",
          "text": [
            "WARNING: You are using pip version 21.2.4; however, version 21.3.1 is available.\n",
            "You should consider upgrading via the 'C:\\ProgramData\\Anaconda3\\python.exe -m pip install --upgrade pip' command.\n"
          ]
        },
        {
          "name": "stdout",
          "output_type": "stream",
          "text": [
            "Collecting opencv-python\n",
            "  Downloading opencv_python-4.5.4.60-cp38-cp38-win_amd64.whl (35.1 MB)\n",
            "Requirement already satisfied: numpy>=1.17.3 in c:\\programdata\\anaconda3\\lib\\site-packages (from opencv-python) (1.20.1)\n",
            "Installing collected packages: opencv-python\n",
            "Successfully installed opencv-python-4.5.4.60\n"
          ]
        }
      ],
      "source": [
        "! pip install opencv-python"
      ]
    },
    {
      "cell_type": "code",
      "execution_count": null,
      "id": "fc880682",
      "metadata": {
        "id": "fc880682"
      },
      "outputs": [],
      "source": [
        "# Example : 1\n",
        "\n",
        "# Importing the OpenCV library\n",
        "\n",
        "import cv2\n",
        "import numpy as np\n",
        "\n",
        "# Reading the image using imread() function\n",
        "image = cv2.imread('image2.png')\n"
      ]
    },
    {
      "cell_type": "code",
      "execution_count": null,
      "id": "b964b4ae",
      "metadata": {
        "id": "b964b4ae"
      },
      "outputs": [],
      "source": [
        "# To Display image\n",
        "\n",
        "# Window name in which image is displayed\n",
        "window_name = 'image'\n",
        "\n",
        "# Using cv2.imshow() method\n",
        "# Displaying the image\n",
        "\n",
        "cv2.imshow(window_name, image)\n",
        "cv2.waitKey(0)\n",
        "cv2.destroyAllWindows()"
      ]
    },
    {
      "cell_type": "code",
      "execution_count": null,
      "id": "22b86332",
      "metadata": {
        "id": "22b86332"
      },
      "outputs": [],
      "source": [
        "# Example : 2 \n",
        "\n",
        "# Importing the OpenCV library\n",
        "\n",
        "import cv2\n",
        "import numpy as np\n",
        "\n",
        "# Reading the image using imread() function\n",
        "image = cv2.imread('Elephants1.jpg')\n",
        "\n"
      ]
    },
    {
      "cell_type": "code",
      "execution_count": null,
      "id": "60ef4818",
      "metadata": {
        "id": "60ef4818"
      },
      "outputs": [],
      "source": [
        "# To Display image\n",
        "\n",
        "# Window name in which image is displayed\n",
        "window_name = 'image'\n",
        "\n",
        "# Using cv2.imshow() method\n",
        "# Displaying the image\n",
        "\n",
        "cv2.imshow(window_name, image)\n",
        "cv2.waitKey(0)\n",
        "cv2.destroyAllWindows()"
      ]
    },
    {
      "cell_type": "code",
      "execution_count": null,
      "id": "6aeec58c",
      "metadata": {
        "id": "6aeec58c"
      },
      "outputs": [],
      "source": [
        "# Example : 3  To display Color Image using cv2.IMREAD_COLOR\n",
        "\n",
        "# Importing the OpenCV library\n",
        "\n",
        "import cv2\n",
        "import numpy as np\n",
        "\n",
        "image = cv2.imread(\"Elephants1.jpg\",cv2.IMREAD_COLOR)\n",
        "\n",
        "# Window name in which image is displayed\n",
        "window_name = 'Display Image'\n",
        "\n",
        "cv2.imshow(window_name, image)\n",
        "cv2.waitKey(0)\n",
        "cv2.destroyAllWindows()"
      ]
    },
    {
      "cell_type": "code",
      "execution_count": null,
      "id": "9e4a5402",
      "metadata": {
        "id": "9e4a5402"
      },
      "outputs": [],
      "source": [
        "# Example : 4  To display GRAYSCALE Image using cv2.IMREAD_GRAYSCALE\n",
        "\n",
        "# Importing the OpenCV library\n",
        "import cv2\n",
        "import numpy as np\n",
        "\n",
        "image = cv2.imread(\"Elephants1.jpg\",cv2.IMREAD_GRAYSCALE)\n",
        "\n",
        "# Window name in which image is displayed\n",
        "window_name = 'GRAYSCALE Image'\n",
        "\n",
        "cv2.imshow(window_name, image)\n",
        "cv2.waitKey(0)\n",
        "cv2.destroyAllWindows()"
      ]
    },
    {
      "cell_type": "code",
      "execution_count": null,
      "id": "e27beee6",
      "metadata": {
        "id": "e27beee6"
      },
      "outputs": [],
      "source": [
        "# Example : 5  To display UNCHANGED Image using cv2.IMREAD_UNCHANGED\n",
        "\n",
        "# Importing the OpenCV library\n",
        "import cv2\n",
        "import numpy as np\n",
        "\n",
        "image = cv2.imread(\"Elephants1.jpg\",cv2.IMREAD_UNCHANGED)\n",
        "\n",
        "# Window name in which image is displayed\n",
        "window_name = 'Display Image'\n",
        "\n",
        "cv2.imshow(window_name, image)\n",
        "cv2.waitKey(0)\n",
        "cv2.destroyAllWindows()"
      ]
    },
    {
      "cell_type": "code",
      "execution_count": null,
      "id": "3c48a3ed",
      "metadata": {
        "id": "3c48a3ed"
      },
      "outputs": [],
      "source": [
        "# Example : 6  To display GRAYSCALE Image using flag=0\n",
        "\n",
        "# Importing the OpenCV library\n",
        "import cv2\n",
        "import numpy as np\n",
        "\n",
        "image = cv2.imread(\"Elephants1.jpg\",0)\n",
        "\n",
        "# Window name in which image is displayed\n",
        "window_name = 'Display Image'\n",
        "\n",
        "cv2.imshow(window_name, image)\n",
        "cv2.waitKey(0)\n",
        "cv2.destroyAllWindows()"
      ]
    },
    {
      "cell_type": "code",
      "execution_count": null,
      "id": "ba7c1e99",
      "metadata": {
        "id": "ba7c1e99"
      },
      "outputs": [],
      "source": [
        "# Example : 6  To display GRAYSCALE Image using flag=1\n",
        "\n",
        "# Importing the OpenCV library\n",
        "import cv2\n",
        "import numpy as np\n",
        "\n",
        "image = cv2.imread(\"Elephants1.jpg\",1)\n",
        "\n",
        "# Window name in which image is displayed\n",
        "window_name = 'Display Image'\n",
        "\n",
        "cv2.imshow(window_name, image)\n",
        "cv2.waitKey(0)\n",
        "cv2.destroyAllWindows()"
      ]
    },
    {
      "cell_type": "code",
      "execution_count": null,
      "id": "8c8eb869",
      "metadata": {
        "id": "8c8eb869",
        "outputId": "eb863d85-b72b-4eb7-b6a9-f12ac3b55f93"
      },
      "outputs": [
        {
          "name": "stdout",
          "output_type": "stream",
          "text": [
            "Height = 736, Width = 736\n"
          ]
        }
      ],
      "source": [
        "# Extract the height and width of an image \n",
        "\n",
        "h, w = image.shape[:2]\n",
        "# Displaying the height and width\n",
        "print(\"Height = {}, Width = {}\".format(h, w))"
      ]
    },
    {
      "cell_type": "code",
      "execution_count": null,
      "id": "90b73a39",
      "metadata": {
        "id": "90b73a39"
      },
      "outputs": [],
      "source": [
        "#resizing an image\n",
        "# resize() function takes 2 parameters,\n",
        "\n",
        "# the image and the dimensions\n",
        "imr = cv2.resize(image, (80, 80))\n",
        "\n",
        "cv2.imshow(window_name, imr)\n",
        "cv2.waitKey(0)\n",
        "cv2.destroyAllWindows()"
      ]
    },
    {
      "cell_type": "code",
      "execution_count": null,
      "id": "6e0e41b9",
      "metadata": {
        "id": "6e0e41b9"
      },
      "outputs": [],
      "source": [
        "# Example : 7\n",
        "\n",
        "#resizing an image\n",
        "# resize() function takes 2 parameters,\n",
        "\n",
        "# the image and the dimensions\n",
        "imr = cv2.resize(image, (100, 100))\n",
        "\n",
        "# Using cv2.imwrite() method\n",
        "# Saving the image\n",
        "\n",
        "filename=\"test.jpg\"\n",
        "cv2.imwrite(filename, imr)\n",
        "\n",
        "image = cv2.imread(\"test.jpg\")\n",
        "\n",
        "# Window name in which image is displayed\n",
        "window_name = 'Display Image'\n",
        "\n",
        "cv2.imshow(window_name, image)\n",
        "cv2.waitKey(0)\n",
        "cv2.destroyAllWindows()\n",
        "\n"
      ]
    },
    {
      "cell_type": "code",
      "execution_count": null,
      "id": "2b9c710f",
      "metadata": {
        "id": "2b9c710f"
      },
      "outputs": [],
      "source": []
    }
  ],
  "metadata": {
    "kernelspec": {
      "display_name": "Python 3",
      "language": "python",
      "name": "python3"
    },
    "language_info": {
      "codemirror_mode": {
        "name": "ipython",
        "version": 3
      },
      "file_extension": ".py",
      "mimetype": "text/x-python",
      "name": "python",
      "nbconvert_exporter": "python",
      "pygments_lexer": "ipython3",
      "version": "3.8.8"
    },
    "colab": {
      "provenance": []
    }
  },
  "nbformat": 4,
  "nbformat_minor": 5
}