{
  "cells": [
    {
      "cell_type": "markdown",
      "metadata": {
        "id": "view-in-github",
        "colab_type": "text"
      },
      "source": [
        "<a href=\"https://colab.research.google.com/github/fatimashaista/Python/blob/main/pythonBootcamp_days_6%267%268.ipynb\" target=\"_parent\"><img src=\"https://colab.research.google.com/assets/colab-badge.svg\" alt=\"Open In Colab\"/></a>"
      ]
    },
    {
      "cell_type": "markdown",
      "metadata": {
        "id": "bQBkBKGyPfPg"
      },
      "source": [
        "##17. Python Modules & Libraries"
      ]
    },
    {
      "cell_type": "markdown",
      "metadata": {
        "id": "lFOXDv7bSmgf"
      },
      "source": [
        "##*Accessing one python program from another program"
      ]
    },
    {
      "cell_type": "code",
      "execution_count": null,
      "metadata": {
        "id": "xBesIZpmSrDD"
      },
      "outputs": [],
      "source": [
        "import  main  #importing python file\n",
        "main.welcome()\n",
        "X= main.a\n",
        "Y= main.b\n",
        "print (X+Y)"
      ]
    },
    {
      "cell_type": "markdown",
      "metadata": {
        "id": "C5g89WQC_ogm"
      },
      "source": [
        "### Accessing python program from another python program present in another folder"
      ]
    },
    {
      "cell_type": "code",
      "execution_count": null,
      "metadata": {
        "colab": {
          "base_uri": "https://localhost:8080/"
        },
        "id": "ozfFVPne_9xr",
        "outputId": "250ed51b-de4b-4d3c-8d99-8b431f317437"
      },
      "outputs": [
        {
          "name": "stdout",
          "output_type": "stream",
          "text": [
            "welcome to python bootcamp\n",
            "190\n"
          ]
        }
      ],
      "source": [
        "from sample_data.demo import  main  #importing python file\n",
        "main.welcome()\n",
        "X= main.a\n",
        "Y= main.b\n",
        "print (X+Y)"
      ]
    },
    {
      "cell_type": "markdown",
      "metadata": {
        "id": "J-buSFnro04_"
      },
      "source": [
        "###Try Except Finally"
      ]
    },
    {
      "cell_type": "markdown",
      "metadata": {
        "id": "iBmPAqh_pNlP"
      },
      "source": [
        "###Base Exception Errors"
      ]
    },
    {
      "cell_type": "code",
      "execution_count": null,
      "metadata": {
        "colab": {
          "base_uri": "https://localhost:8080/"
        },
        "id": "cUvo7xPRplkV",
        "outputId": "51629745-296f-4fbf-cf36-09bdb73239f7"
      },
      "outputs": [
        {
          "name": "stdout",
          "output_type": "stream",
          "text": [
            "0.3333333333333333\n",
            "0.5\n",
            "1.0\n",
            "you're trying to divide by zero.U IDIOT\n",
            "-1.0\n",
            "-0.5\n"
          ]
        }
      ],
      "source": [
        "for i in range (3,-3,-1):\n",
        "    try:\n",
        "       print(1.0/i)\n",
        "    except ZeroDivisionError:\n",
        "       print(\"you're trying to divide by zero.U IDIOT\" )"
      ]
    },
    {
      "cell_type": "code",
      "execution_count": null,
      "metadata": {
        "colab": {
          "base_uri": "https://localhost:8080/"
        },
        "id": "oWGoT9RhsrzJ",
        "outputId": "c0954388-8ae3-4c2f-c383-acca443f29b8"
      },
      "outputs": [
        {
          "name": "stdout",
          "output_type": "stream",
          "text": [
            "0.3333333333333333\n",
            "0.5\n",
            "1.0\n",
            "Zero Division Error: float division by zero\n",
            "-1.0\n",
            "-0.5\n"
          ]
        }
      ],
      "source": [
        "for i in range (3,-3,-1):\n",
        "    try:\n",
        "       print(1.0/i)\n",
        "    except ZeroDivisionError as er:\n",
        "      print('Zero Division Error:',str(er.args[0]))"
      ]
    },
    {
      "cell_type": "markdown",
      "metadata": {
        "id": "iXrqHIykrKwX"
      },
      "source": [
        "###Try,except,else,finally"
      ]
    },
    {
      "cell_type": "code",
      "execution_count": null,
      "metadata": {
        "id": "Rop33zhwyAZD"
      },
      "outputs": [],
      "source": [
        "  def check():\n",
        "      while True: \n",
        "          try: \n",
        "              a = int(input(\"please value of a in numbers:\")) \n",
        "              b = int(input(\" please value of b in numbers:\")) \n",
        "          except: \n",
        "               print(\"you did not entered numbers\")\n",
        "               continue \n",
        "          else: \n",
        "                print(\"yes its numbers\") \n",
        "                break \n",
        "          finally: \n",
        "                print(\"Execution succesfull\") \n",
        "                print(a+b) \n",
        "  "
      ]
    },
    {
      "cell_type": "code",
      "execution_count": null,
      "metadata": {
        "colab": {
          "base_uri": "https://localhost:8080/"
        },
        "id": "f1WWcH1K381z",
        "outputId": "cee8e64e-3a29-49a1-b8d4-e9e99f9669e6"
      },
      "outputs": [
        {
          "name": "stdout",
          "output_type": "stream",
          "text": [
            "please value of a in numbers:1\n",
            " please value of b in numbers:2\n",
            "yes its numbers\n",
            "Execution succesfull\n",
            "3\n"
          ]
        }
      ],
      "source": [
        "check()"
      ]
    },
    {
      "cell_type": "markdown",
      "metadata": {
        "id": "XUhjeB9V4jZp"
      },
      "source": [
        "#Library"
      ]
    },
    {
      "cell_type": "markdown",
      "metadata": {
        "id": "dxZtxqDl5S8r"
      },
      "source": [
        "###Importing Library"
      ]
    },
    {
      "cell_type": "code",
      "execution_count": null,
      "metadata": {
        "id": "wEni5L-F6Ym2"
      },
      "outputs": [],
      "source": [
        "import math # import Libraryname"
      ]
    },
    {
      "cell_type": "code",
      "execution_count": null,
      "metadata": {
        "colab": {
          "base_uri": "https://localhost:8080/",
          "height": 304
        },
        "id": "uWcDeIVh6tB4",
        "outputId": "19e72ea7-1f76-4850-8442-160dcb704e12"
      },
      "outputs": [
        {
          "ename": "ModuleNotFoundError",
          "evalue": "ignored",
          "output_type": "error",
          "traceback": [
            "\u001b[0;31m---------------------------------------------------------------------------\u001b[0m",
            "\u001b[0;31mModuleNotFoundError\u001b[0m                       Traceback (most recent call last)",
            "\u001b[0;32m<ipython-input-34-01e9965f87c9>\u001b[0m in \u001b[0;36m<module>\u001b[0;34m()\u001b[0m\n\u001b[0;32m----> 1\u001b[0;31m \u001b[0;32mimport\u001b[0m \u001b[0mabcde\u001b[0m\u001b[0;34m\u001b[0m\u001b[0;34m\u001b[0m\u001b[0m\n\u001b[0m",
            "\u001b[0;31mModuleNotFoundError\u001b[0m: No module named 'abcde'",
            "",
            "\u001b[0;31m---------------------------------------------------------------------------\u001b[0;32m\nNOTE: If your import is failing due to a missing package, you can\nmanually install dependencies using either !pip or !apt.\n\nTo view examples of installing some common dependencies, click the\n\"Open Examples\" button below.\n\u001b[0;31m---------------------------------------------------------------------------\u001b[0m\n"
          ]
        }
      ],
      "source": [
        "import abcde\n"
      ]
    },
    {
      "cell_type": "markdown",
      "metadata": {
        "id": "XnfZmfko7Jov"
      },
      "source": [
        "### Installing Library"
      ]
    },
    {
      "cell_type": "code",
      "execution_count": null,
      "metadata": {
        "colab": {
          "base_uri": "https://localhost:8080/"
        },
        "id": "48YaJ0Ck9SAO",
        "outputId": "454e1a9f-b616-45d5-d63a-248a30363889"
      },
      "outputs": [
        {
          "name": "stdout",
          "output_type": "stream",
          "text": [
            "Requirement already satisfied: imutils in /usr/local/lib/python3.7/dist-packages (0.5.4)\n"
          ]
        }
      ],
      "source": [
        "!pip install imutils"
      ]
    },
    {
      "cell_type": "markdown",
      "metadata": {
        "id": "qOnF2Z2Y9lR_"
      },
      "source": [
        "####Uninstalling Library"
      ]
    },
    {
      "cell_type": "code",
      "execution_count": null,
      "metadata": {
        "colab": {
          "base_uri": "https://localhost:8080/"
        },
        "id": "0HwYHFAY96bd",
        "outputId": "e815ee89-b6bc-4cc1-ec4a-0c5514cc4e44"
      },
      "outputs": [
        {
          "name": "stdout",
          "output_type": "stream",
          "text": [
            "Found existing installation: imutils 0.5.4\n",
            "Uninstalling imutils-0.5.4:\n",
            "  Would remove:\n",
            "    /usr/local/bin/range-detector\n",
            "    /usr/local/lib/python3.7/dist-packages/imutils-0.5.4.dist-info/*\n",
            "    /usr/local/lib/python3.7/dist-packages/imutils/*\n",
            "Proceed (y/n)? y\n",
            "  Successfully uninstalled imutils-0.5.4\n"
          ]
        }
      ],
      "source": [
        "!pip uninstall imutils"
      ]
    },
    {
      "cell_type": "markdown",
      "metadata": {
        "id": "D0GzDkKo-h5o"
      },
      "source": [
        "###Installing Library based on version\n",
        "\n"
      ]
    },
    {
      "cell_type": "code",
      "execution_count": null,
      "metadata": {
        "colab": {
          "base_uri": "https://localhost:8080/"
        },
        "id": "iJpICXAB_Hyo",
        "outputId": "63ed5313-70cd-4f12-ccae-9c1d38b5a4ac"
      },
      "outputs": [
        {
          "name": "stdout",
          "output_type": "stream",
          "text": [
            "Collecting imutils==0.5.4\n",
            "  Downloading imutils-0.5.4.tar.gz (17 kB)\n",
            "Building wheels for collected packages: imutils\n",
            "  Building wheel for imutils (setup.py) ... \u001b[?25l\u001b[?25hdone\n",
            "  Created wheel for imutils: filename=imutils-0.5.4-py3-none-any.whl size=25858 sha256=33bac0aaabdad5a237c7cbd41e849227b54ae2a8dd899175ea7811cc92228dca\n",
            "  Stored in directory: /root/.cache/pip/wheels/86/d7/0a/4923351ed1cec5d5e24c1eaf8905567b02a0343b24aa873df2\n",
            "Successfully built imutils\n",
            "Installing collected packages: imutils\n",
            "Successfully installed imutils-0.5.4\n"
          ]
        }
      ],
      "source": [
        "!pip install imutils==0.5.4"
      ]
    },
    {
      "cell_type": "markdown",
      "metadata": {
        "id": "h82utT_0_e98"
      },
      "source": [
        "###Checking installed library version"
      ]
    },
    {
      "cell_type": "code",
      "execution_count": null,
      "metadata": {
        "colab": {
          "base_uri": "https://localhost:8080/",
          "height": 35
        },
        "id": "CHZrvCij_zGR",
        "outputId": "f480e2bd-98f7-4b03-8ac1-4a4624500532"
      },
      "outputs": [
        {
          "data": {
            "application/vnd.google.colaboratory.intrinsic+json": {
              "type": "string"
            },
            "text/plain": [
              "'0.5.4'"
            ]
          },
          "execution_count": 4,
          "metadata": {},
          "output_type": "execute_result"
        }
      ],
      "source": [
        "import imutils\n",
        "imutils .__version__"
      ]
    },
    {
      "cell_type": "markdown",
      "metadata": {
        "id": "kTriokPQ933r"
      },
      "source": [
        "## Playing with Libraries"
      ]
    },
    {
      "cell_type": "code",
      "execution_count": null,
      "metadata": {
        "colab": {
          "base_uri": "https://localhost:8080/"
        },
        "id": "26u5X5wk-Gop",
        "outputId": "e506a29d-64f6-4452-9794-d6bc3240df69"
      },
      "outputs": [
        {
          "name": "stdout",
          "output_type": "stream",
          "text": [
            "['__doc__', '__loader__', '__name__', '__package__', '__spec__', 'acos', 'acosh', 'asin', 'asinh', 'atan', 'atan2', 'atanh', 'ceil', 'copysign', 'cos', 'cosh', 'degrees', 'e', 'erf', 'erfc', 'exp', 'expm1', 'fabs', 'factorial', 'floor', 'fmod', 'frexp', 'fsum', 'gamma', 'gcd', 'hypot', 'inf', 'isclose', 'isfinite', 'isinf', 'isnan', 'ldexp', 'lgamma', 'log', 'log10', 'log1p', 'log2', 'modf', 'nan', 'pi', 'pow', 'radians', 'remainder', 'sin', 'sinh', 'sqrt', 'tan', 'tanh', 'tau', 'trunc']\n",
            "3.141592653589793\n"
          ]
        }
      ],
      "source": [
        "import math\n",
        "print(dir(math))\n",
        "print(math.pi)"
      ]
    },
    {
      "cell_type": "code",
      "execution_count": null,
      "metadata": {
        "colab": {
          "base_uri": "https://localhost:8080/"
        },
        "id": "wDXWMkly-31x",
        "outputId": "a2a2af1b-da9a-451d-a8bf-547e100b2bc7"
      },
      "outputs": [
        {
          "name": "stdout",
          "output_type": "stream",
          "text": [
            "['__doc__', '__loader__', '__name__', '__package__', '__spec__', 'acos', 'acosh', 'asin', 'asinh', 'atan', 'atan2', 'atanh', 'ceil', 'copysign', 'cos', 'cosh', 'degrees', 'e', 'erf', 'erfc', 'exp', 'expm1', 'fabs', 'factorial', 'floor', 'fmod', 'frexp', 'fsum', 'gamma', 'gcd', 'hypot', 'inf', 'isclose', 'isfinite', 'isinf', 'isnan', 'ldexp', 'lgamma', 'log', 'log10', 'log1p', 'log2', 'modf', 'nan', 'pi', 'pow', 'radians', 'remainder', 'sin', 'sinh', 'sqrt', 'tan', 'tanh', 'tau', 'trunc']\n",
            "3.141592653589793\n"
          ]
        }
      ],
      "source": [
        "import math as mt\n",
        "print(dir(mt))\n",
        "print(math.pi)"
      ]
    },
    {
      "cell_type": "markdown",
      "metadata": {
        "id": "u4C23PrABMpJ"
      },
      "source": [
        "##Reduce"
      ]
    },
    {
      "cell_type": "code",
      "execution_count": null,
      "metadata": {
        "colab": {
          "background_save": true,
          "base_uri": "https://localhost:8080/",
          "height": 130
        },
        "id": "nUKAgd6NBZCf",
        "outputId": "4ded549d-69d0-41ad-ec86-dd241fc9fa2a"
      },
      "outputs": [
        {
          "data": {
            "text/plain": [
              "113"
            ]
          },
          "execution_count": null,
          "metadata": {},
          "output_type": "execute_result"
        }
      ],
      "source": [
        "from functools import reduce\n",
        "lst=[47,11,42,13]\n",
        "reduce(lamda X,Y:X+Y,lst)\n"
      ]
    },
    {
      "cell_type": "markdown",
      "source": [
        "##Ipython"
      ],
      "metadata": {
        "id": "yuHLH2FgDFSH"
      }
    },
    {
      "cell_type": "code",
      "source": [
        "from IPython.display import Image\n",
        "Image('https://www.desktopbackground.org/download/320x480/2015/07/11/977614_ironman-hd-wallpapers_1203x706_h.jpg')"
      ],
      "metadata": {
        "colab": {
          "base_uri": "https://localhost:8080/",
          "height": 497
        },
        "id": "OrMosG1CbGoF",
        "outputId": "0e96537d-bb8e-41e6-cecf-b6318bf738cd"
      },
      "execution_count": null,
      "outputs": [
        {
          "output_type": "execute_result",
          "data": {
            "image/jpeg": "[encoded data removed]",
            "text/plain": [
              "<IPython.core.display.Image object>"
            ]
          },
          "metadata": {},
          "execution_count": 21
        }
      ]
    },
    {
      "cell_type": "markdown",
      "source": [
        "##Filter"
      ],
      "metadata": {
        "id": "zKCtCUtjEucc"
      }
    },
    {
      "cell_type": "code",
      "source": [
        "def check(num):\n",
        "  if num%2==0:\n",
        "     return True\n",
        "lst=range(20)\n",
        "list(filter(check,lst))"
      ],
      "metadata": {
        "colab": {
          "base_uri": "https://localhost:8080/"
        },
        "id": "wxmC_oM6E94E",
        "outputId": "6fc99c34-58c0-4f48-82f8-0214f113bb0f"
      },
      "execution_count": null,
      "outputs": [
        {
          "output_type": "execute_result",
          "data": {
            "text/plain": [
              "[0, 2, 4, 6, 8, 10, 12, 14, 16, 18]"
            ]
          },
          "metadata": {},
          "execution_count": 7
        }
      ]
    },
    {
      "cell_type": "markdown",
      "source": [
        "###Counter-pass single type of arguments binded as a list"
      ],
      "metadata": {
        "id": "DPjRkxaGvBaT"
      }
    },
    {
      "cell_type": "code",
      "source": [
        "!pip install Counter"
      ],
      "metadata": {
        "id": "IT2v7ySll_NZ"
      },
      "execution_count": null,
      "outputs": []
    },
    {
      "cell_type": "code",
      "source": [
        "from collections import Counter\n",
        "print(Counter([5,6,8,4,7,5,9,6,2,1,3,8,4,5,8,7,2,5,8,6,2,5,4,1,2,6,8,7,4,5,7,5,8,2,2,6])) #Numb\n",
        "print(Counter('sdasdasdadasdasdasdasdaddasdassdadassd'))# string"
      ],
      "metadata": {
        "colab": {
          "base_uri": "https://localhost:8080/"
        },
        "id": "3YC9qSQbvvff",
        "outputId": "573bddac-90c8-485a-d663-207f8b841277"
      },
      "execution_count": null,
      "outputs": [
        {
          "output_type": "stream",
          "name": "stdout",
          "text": [
            "Counter({5: 7, 8: 6, 2: 6, 6: 5, 4: 4, 7: 4, 1: 2, 9: 1, 3: 1})\n",
            "Counter({'d': 14, 's': 12, 'a': 12})\n"
          ]
        }
      ]
    },
    {
      "cell_type": "markdown",
      "source": [
        "##Regular Expression"
      ],
      "metadata": {
        "id": "Y1eaOnPonZIV"
      }
    },
    {
      "cell_type": "code",
      "source": [
        "import re\n",
        "patt = r'\\d{2}-\\d{2}-\\d{4}'\n",
        "message = \"His birthday is 16-11-2016\"\n",
        "re.findall(patt,message)"
      ],
      "metadata": {
        "colab": {
          "base_uri": "https://localhost:8080/"
        },
        "id": "KlEvE_kYoi3U",
        "outputId": "3d618f41-9744-41e7-9d90-34256798de0a"
      },
      "execution_count": null,
      "outputs": [
        {
          "output_type": "execute_result",
          "data": {
            "text/plain": [
              "['16-11-2016']"
            ]
          },
          "metadata": {},
          "execution_count": 1
        }
      ]
    },
    {
      "cell_type": "code",
      "source": [
        ""
      ],
      "metadata": {
        "id": "NTWBz6dLzI4Z"
      },
      "execution_count": null,
      "outputs": []
    }
  ],
  "metadata": {
    "colab": {
      "collapsed_sections": [],
      "name": "pythonBootcamp days 6&7&8.ipynb",
      "provenance": [],
      "authorship_tag": "ABX9TyNk+g74A8PAHe+LHK110NCL",
      "include_colab_link": true
    },
    "kernelspec": {
      "display_name": "Python 3",
      "name": "python3"
    },
    "language_info": {
      "name": "python"
    }
  },
  "nbformat": 4,
  "nbformat_minor": 0
}