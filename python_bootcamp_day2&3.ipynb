{
  "nbformat": 4,
  "nbformat_minor": 0,
  "metadata": {
    "colab": {
      "name": "python bootcamp day2&3.ipynb",
      "provenance": [],
      "collapsed_sections": [],
      "authorship_tag": "ABX9TyPYVQou66E7hrtUjtqjQxHZ",
      "include_colab_link": true
    },
    "kernelspec": {
      "name": "python3",
      "display_name": "Python 3"
    },
    "language_info": {
      "name": "python"
    }
  },
  "cells": [
    {
      "cell_type": "markdown",
      "metadata": {
        "id": "view-in-github",
        "colab_type": "text"
      },
      "source": [
        "<a href=\"https://colab.research.google.com/github/fatimashaista/Python/blob/main/python_bootcamp_day2%263.ipynb\" target=\"_parent\"><img src=\"https://colab.research.google.com/assets/colab-badge.svg\" alt=\"Open In Colab\"/></a>"
      ]
    },
    {
      "cell_type": "markdown",
      "source": [
        "# Basic PYTHON\n"
      ],
      "metadata": {
        "id": "zIerx_c6jkr4"
      }
    },
    {
      "cell_type": "markdown",
      "source": [
        "###Arithmetic"
      ],
      "metadata": {
        "id": "9MzhT69miNVI"
      }
    },
    {
      "cell_type": "code",
      "execution_count": null,
      "metadata": {
        "id": "yME9Okb1Bvnd",
        "colab": {
          "base_uri": "https://localhost:8080/"
        },
        "outputId": "2825b59b-7100-4d8a-ee74-13823811e680"
      },
      "outputs": [
        {
          "output_type": "stream",
          "name": "stdout",
          "text": [
            "11\n"
          ]
        }
      ],
      "source": [
        "a=5\n",
        "b=6\n",
        "c=a+b\n",
        "print(c)"
      ]
    },
    {
      "cell_type": "code",
      "source": [
        "d=a*b\n",
        "print(d)"
      ],
      "metadata": {
        "id": "e8wQMaa1mLiQ",
        "colab": {
          "base_uri": "https://localhost:8080/"
        },
        "outputId": "4644f97c-2241-4231-91ff-46431dd66739"
      },
      "execution_count": null,
      "outputs": [
        {
          "output_type": "stream",
          "name": "stdout",
          "text": [
            "30\n"
          ]
        }
      ]
    },
    {
      "cell_type": "markdown",
      "source": [
        "#Simple Arithmetic - Get input from User (+,-,*,%)"
      ],
      "metadata": {
        "id": "etGuAapwskyl"
      }
    },
    {
      "cell_type": "code",
      "source": [
        "a = float(input(\"Enter the value of a: \"))\n",
        "b = float(input(\"Enter the value of b: \"))\n",
        "add=a+b\n",
        "print(add)\n"
      ],
      "metadata": {
        "colab": {
          "base_uri": "https://localhost:8080/"
        },
        "id": "H94op2wRtGLp",
        "outputId": "f6efca47-105e-462e-bdc2-38a241010c3f"
      },
      "execution_count": null,
      "outputs": [
        {
          "output_type": "stream",
          "name": "stdout",
          "text": [
            "Enter the value of a: 2.3\n",
            "Enter the value of b: 4.2\n",
            "6.5\n"
          ]
        }
      ]
    },
    {
      "cell_type": "code",
      "source": [
        "a = int(input(\"Enter the value of a: \"))\n",
        "b = int(input(\"Enter the value of b: \"))\n",
        "add=a+b\n",
        "sub=a-b\n",
        "mult=a*b\n",
        "div=a/b\n",
        "mod=a%b\n",
        "print(add)\n",
        "print(\"ADD:\",add)\n",
        "print(\"Sum: {0}, Diff: {1}, Mult: {2}, Div:{3}, Mod:{4}\".format(add,sub,mult,div,mod)) #Print using Format"
      ],
      "metadata": {
        "colab": {
          "base_uri": "https://localhost:8080/"
        },
        "id": "AuRgbbMntaYT",
        "outputId": "606b9fcd-95dd-4107-85bf-392bf2519df1"
      },
      "execution_count": null,
      "outputs": [
        {
          "output_type": "stream",
          "name": "stdout",
          "text": [
            "Enter the value of a: 3\n",
            "Enter the value of b: 4\n",
            "7\n",
            "ADD: 7\n",
            "Sum: 7, Diff: -1, Mult: 12, Div:0.75, Mod:3\n"
          ]
        }
      ]
    },
    {
      "cell_type": "code",
      "source": [
        "a = int(input(\"Enter the value of a: \"))\n",
        "b = int(input(\"Enter the value of b: \"))\n",
        "add=a+b\n",
        "sub=a-b\n",
        "mult=a*b\n",
        "div=a/b\n",
        "mod=a%b\n",
        "print(\"ADD:\",add)\n",
        "print(\"Sum: {0}, Diff: {1}, Mult: {2}, Div:{3}, Mod:{4}\".format(add,sub,mult,div,mod)) #Print using Format\n",
        "print(\"Sum: %d, Diff: %d, Mult: %d, Div:%15.2f, Mod:%d\"%(add,sub,mult,div,mod)) #Print using PADDING & PRECISION"
      ],
      "metadata": {
        "colab": {
          "base_uri": "https://localhost:8080/"
        },
        "id": "XFr0xxTUvNjB",
        "outputId": "fb7ce621-5805-4624-a6e4-2bef5a56cfed"
      },
      "execution_count": null,
      "outputs": [
        {
          "output_type": "stream",
          "name": "stdout",
          "text": [
            "Enter the value of a: 5\n",
            "Enter the value of b: 4\n",
            "ADD: 9\n",
            "Sum: 9, Diff: 1, Mult: 20, Div:1.25, Mod:1\n",
            "Sum: 9, Diff: 1, Mult: 20, Div:           1.25, Mod:1\n"
          ]
        }
      ]
    },
    {
      "cell_type": "code",
      "source": [
        "print(\"Sum: %d, Diff: %d, Mult: %d, Div:%15.3f, Mod:%d\"%(add,sub,mult,div,mod)) #Print using PADDING & PRECISION"
      ],
      "metadata": {
        "id": "e5KxQO72wAkH"
      },
      "execution_count": null,
      "outputs": []
    },
    {
      "cell_type": "code",
      "source": [
        "a = (input(\"Enter the value of a: \"))\n",
        "b = (input(\"Enter the value of b: \"))\n",
        "add=a+b\n",
        "print(add)\n",
        "\n"
      ],
      "metadata": {
        "id": "c_bCjvv6yxhX",
        "colab": {
          "base_uri": "https://localhost:8080/"
        },
        "outputId": "a4d80897-1854-454b-de63-6305bf9ddaba"
      },
      "execution_count": null,
      "outputs": [
        {
          "output_type": "stream",
          "name": "stdout",
          "text": [
            "Enter the value of a: 7\n",
            "Enter the value of b: 3\n",
            "73\n"
          ]
        }
      ]
    },
    {
      "cell_type": "markdown",
      "source": [
        "###Left Allign, Right Allign,Center Align"
      ],
      "metadata": {
        "id": "XU7TdfxS35WD"
      }
    },
    {
      "cell_type": "code",
      "source": [
        "print('{0:<4} | {1:^4} | {2:^4} | {3:>4}'.format('Sum','Diff','Mult','Div'))\n",
        "print('{0:<4} | {1:^4} | {2:^4} | {3:>4}'.format(add,sub,mult,div))"
      ],
      "metadata": {
        "id": "RXAg4vNW30mw",
        "colab": {
          "base_uri": "https://localhost:8080/"
        },
        "outputId": "e19f5d99-3ee6-495e-bbb7-490f2ddc5b41"
      },
      "execution_count": null,
      "outputs": [
        {
          "output_type": "stream",
          "name": "stdout",
          "text": [
            "Sum  | Diff | Mult |  Div\n",
            "73   |  1   |  20  | 1.25\n"
          ]
        }
      ]
    },
    {
      "cell_type": "markdown",
      "source": [
        "#Simple Arithmetic - Get input from User (power)"
      ],
      "metadata": {
        "id": "D9rsZJ5c4___"
      }
    },
    {
      "cell_type": "code",
      "source": [
        "a=5\n",
        "b=2\n",
        "power=a**b #Power\n",
        "print(power)"
      ],
      "metadata": {
        "id": "9CH4lgfj5QkD",
        "colab": {
          "base_uri": "https://localhost:8080/"
        },
        "outputId": "d515a238-8714-4dee-bd8f-ca54c38b08b9"
      },
      "execution_count": null,
      "outputs": [
        {
          "output_type": "stream",
          "name": "stdout",
          "text": [
            "25\n"
          ]
        }
      ]
    },
    {
      "cell_type": "markdown",
      "source": [
        "#2. STRINGS"
      ],
      "metadata": {
        "id": "iDdrHvhM6L__"
      }
    },
    {
      "cell_type": "markdown",
      "source": [
        "###Create String"
      ],
      "metadata": {
        "id": "S4jFZ_Uj6Xo4"
      }
    },
    {
      "cell_type": "code",
      "source": [
        "a = 'Python'\n",
        "b = \"Bootcamp\"\n",
        "print(a+b)"
      ],
      "metadata": {
        "colab": {
          "base_uri": "https://localhost:8080/"
        },
        "id": "KeyOY77_6lxN",
        "outputId": "ffcb703a-fb2c-425d-97f6-7071aa87046c"
      },
      "execution_count": null,
      "outputs": [
        {
          "output_type": "stream",
          "name": "stdout",
          "text": [
            "PythonBootcamp\n"
          ]
        }
      ]
    },
    {
      "cell_type": "code",
      "source": [
        "a = 'Python'\n",
        "b = \"Bootcamp\"\n",
        "print(a)\n",
        "print(b)"
      ],
      "metadata": {
        "colab": {
          "base_uri": "https://localhost:8080/"
        },
        "id": "1txNYVdA7JaW",
        "outputId": "72862c88-63ab-4216-c490-f514e3e6fe22"
      },
      "execution_count": null,
      "outputs": [
        {
          "output_type": "stream",
          "name": "stdout",
          "text": [
            "Python\n",
            "Bootcamp\n"
          ]
        }
      ]
    },
    {
      "cell_type": "markdown",
      "source": [
        "#Length of String"
      ],
      "metadata": {
        "id": "-fhv1GLX7nBm"
      }
    },
    {
      "cell_type": "code",
      "source": [
        "a=\"Champ\"\n",
        "print(len(a))"
      ],
      "metadata": {
        "id": "d17KUq5C7z9X",
        "colab": {
          "base_uri": "https://localhost:8080/"
        },
        "outputId": "9e099de8-4372-4ae3-d33f-ede132fc3d4d"
      },
      "execution_count": null,
      "outputs": [
        {
          "output_type": "stream",
          "name": "stdout",
          "text": [
            "5\n"
          ]
        }
      ]
    },
    {
      "cell_type": "code",
      "source": [
        "a=\"S\"\n",
        "b=a*3\n",
        "print(b)"
      ],
      "metadata": {
        "colab": {
          "base_uri": "https://localhost:8080/"
        },
        "id": "F1AP9F337_pK",
        "outputId": "4dc5564d-08da-4542-b17e-66a84ce24430"
      },
      "execution_count": null,
      "outputs": [
        {
          "output_type": "stream",
          "name": "stdout",
          "text": [
            "SSS\n"
          ]
        }
      ]
    },
    {
      "cell_type": "markdown",
      "source": [
        "##String Index"
      ],
      "metadata": {
        "id": "RqFO-ckZ82b7"
      }
    },
    {
      "cell_type": "code",
      "source": [
        "a=\"champ\"\n",
        "print(a[3]) #identifing the element based on index\n",
        "print(a[3:]) #Grab the remaing elements except upto the Index\n",
        "print(a[:2]) #Grab the elements upto the Index\n",
        "print(a[-1]) #Grab the Last element\n",
        "print(a[:-1]) #Grab the elements except last element\n",
        "print(a[::2]) #Grab everything with 2 steps\n",
        "print(a[::-1]) #Print string backwards"
      ],
      "metadata": {
        "id": "LsE3vd8o88jL",
        "colab": {
          "base_uri": "https://localhost:8080/"
        },
        "outputId": "c00b7077-db19-4131-e76d-298f170a7ec9"
      },
      "execution_count": null,
      "outputs": [
        {
          "output_type": "stream",
          "name": "stdout",
          "text": [
            "m\n",
            "mp\n",
            "ch\n",
            "p\n",
            "cham\n",
            "cap\n",
            "pmahc\n"
          ]
        }
      ]
    },
    {
      "cell_type": "markdown",
      "source": [
        "\n",
        "#String Functions"
      ],
      "metadata": {
        "id": "-SBnkTsh-eqt"
      }
    },
    {
      "cell_type": "code",
      "source": [
        "a=\"Master Class\"\n",
        "print(a.upper()) #Changing to Upper case\n",
        "print(a.lower()) #Changing to Lowerb= a.split() case"
      ],
      "metadata": {
        "id": "I0c-UbjM-hjI",
        "colab": {
          "base_uri": "https://localhost:8080/"
        },
        "outputId": "6843ffd2-7383-4ed6-8ff5-f59c2ba08d51"
      },
      "execution_count": null,
      "outputs": [
        {
          "output_type": "stream",
          "name": "stdout",
          "text": [
            "MASTER CLASS\n",
            "master class\n"
          ]
        }
      ]
    },
    {
      "cell_type": "code",
      "source": [
        "b= a.split() #Splitting String\n",
        "print(b)\n",
        "print(b[1]) #Printing the splitting string based on Index\n",
        "print(b[0])"
      ],
      "metadata": {
        "id": "mAwq9qj9_CNA",
        "colab": {
          "base_uri": "https://localhost:8080/"
        },
        "outputId": "7bb2189e-6477-4de8-c303-df0aa650242e"
      },
      "execution_count": null,
      "outputs": [
        {
          "output_type": "stream",
          "name": "stdout",
          "text": [
            "['Master', 'Class']\n",
            "Class\n",
            "Master\n"
          ]
        }
      ]
    },
    {
      "cell_type": "code",
      "source": [
        "c=\"ElonMusk,SteveJobs,BillGates\"\n",
        "d=c.split(\",\") #Splitting string based on Delimitter\n",
        "print(d)\n",
        "print(d[2])"
      ],
      "metadata": {
        "id": "dfsAvYQiAFrp",
        "colab": {
          "base_uri": "https://localhost:8080/"
        },
        "outputId": "c79fc09f-f694-426c-f07f-cd3be8e80fa0"
      },
      "execution_count": null,
      "outputs": [
        {
          "output_type": "stream",
          "name": "stdout",
          "text": [
            "['ElonMusk', 'SteveJobs', 'BillGates']\n",
            "BillGates\n"
          ]
        }
      ]
    },
    {
      "cell_type": "code",
      "source": [
        "a=\"Master Class\"\n",
        "print(f\"Welcome to Python {a} !\") #Formatting string Literals"
      ],
      "metadata": {
        "colab": {
          "base_uri": "https://localhost:8080/"
        },
        "id": "HEUC5QT1AWoa",
        "outputId": "9a7c0d0e-fca7-4fd8-f348-217de9534446"
      },
      "execution_count": null,
      "outputs": [
        {
          "output_type": "stream",
          "name": "stdout",
          "text": [
            "Welcome to Python Master Class !\n"
          ]
        }
      ]
    },
    {
      "cell_type": "markdown",
      "source": [
        "#3. LIST"
      ],
      "metadata": {
        "id": "DArhimigA3NT"
      }
    },
    {
      "cell_type": "markdown",
      "source": [
        "###Create List"
      ],
      "metadata": {
        "id": "QuWnbTYXBKHT"
      }
    },
    {
      "cell_type": "code",
      "source": [
        "a = [1,2,3,4,5]\n",
        "b = [\"Champ\",21,99.5]\n",
        "print(a,b)\n",
        "print(len(b)) #Length of List\n",
        "print(b[0]) #Locate list element based on Index\n",
        "print(a[1:]) #print elements except 1st\n",
        "print(a[:2]) #Print elements upto 2nd element\n",
        "print(a+b) #Concatenate 2 list"
      ],
      "metadata": {
        "id": "EGpC-bncBSdF",
        "colab": {
          "base_uri": "https://localhost:8080/"
        },
        "outputId": "85f5a12d-c2d6-4aed-85db-934e4c15715f"
      },
      "execution_count": null,
      "outputs": [
        {
          "output_type": "stream",
          "name": "stdout",
          "text": [
            "[1, 2, 3, 4, 5] ['Champ', 21, 99.5]\n",
            "3\n",
            "Champ\n",
            "[2, 3, 4, 5]\n",
            "[1, 2]\n",
            "[1, 2, 3, 4, 5, 'Champ', 21, 99.5]\n"
          ]
        }
      ]
    },
    {
      "cell_type": "code",
      "source": [
        "a = [1,2,3,4,5]\n",
        "a.append(6) #inserting new elements to the existing list\n",
        "print(a)"
      ],
      "metadata": {
        "colab": {
          "base_uri": "https://localhost:8080/"
        },
        "id": "4Dq9cVmGBD-t",
        "outputId": "5bdc5105-5c06-4aec-a60c-43446d8d5e75"
      },
      "execution_count": null,
      "outputs": [
        {
          "output_type": "stream",
          "name": "stdout",
          "text": [
            "[1, 2, 3, 4, 5, 6]\n"
          ]
        }
      ]
    },
    {
      "cell_type": "code",
      "source": [
        "a = [1,2,3,4,5]\n",
        "a.reverse() #Reverse list\n",
        "print(a)\n",
        "print(min(a)) #Minimum\n",
        "print(max(a)) #Maximum"
      ],
      "metadata": {
        "colab": {
          "base_uri": "https://localhost:8080/"
        },
        "id": "fypmP_-fCQpi",
        "outputId": "dac555b0-75e4-4262-9ce8-6e07e4edc3c5"
      },
      "execution_count": null,
      "outputs": [
        {
          "output_type": "stream",
          "name": "stdout",
          "text": [
            "[5, 4, 3, 2, 1]\n",
            "1\n",
            "5\n"
          ]
        }
      ]
    },
    {
      "cell_type": "code",
      "source": [
        "a=[1,2,3]\n",
        "b=[4,5,6]\n",
        "c=[a,b] #Nested List Matrix\n",
        "print(c)\n",
        "print(c[0]) #Printing row\n",
        "print(c[0][0]) #Printing 1st element\n",
        "print(c[0][1])\n",
        "print(c[1][0])\n",
        "print(c[1][1])"
      ],
      "metadata": {
        "colab": {
          "base_uri": "https://localhost:8080/"
        },
        "id": "rReZlx4tCrpD",
        "outputId": "2d200306-9654-46c7-b0a0-28951cef0c09"
      },
      "execution_count": null,
      "outputs": [
        {
          "output_type": "stream",
          "name": "stdout",
          "text": [
            "[[1, 2, 3], [4, 5, 6]]\n",
            "[1, 2, 3]\n",
            "1\n",
            "2\n",
            "4\n",
            "5\n"
          ]
        }
      ]
    },
    {
      "cell_type": "code",
      "source": [
        "a = [1,2,3,4,5]\n",
        "from random import shuffle\n",
        "shuffle(a)"
      ],
      "metadata": {
        "id": "oevztwZgD-BE"
      },
      "execution_count": null,
      "outputs": []
    },
    {
      "cell_type": "markdown",
      "source": [
        "#4. DICTIONARIES"
      ],
      "metadata": {
        "id": "Nt0CnwxbEVjs"
      }
    },
    {
      "cell_type": "markdown",
      "source": [
        "###Creating Dictionary : Key & Value"
      ],
      "metadata": {
        "id": "5WRlotXeEsmA"
      }
    },
    {
      "cell_type": "code",
      "source": [
        "a = {\"Name\":\"Elon\",\"Age\":50,\"Company\":[\"SpaceX\",\"Tesla\"]}\n",
        "a"
      ],
      "metadata": {
        "id": "EGy_aNl-Ex8t",
        "colab": {
          "base_uri": "https://localhost:8080/"
        },
        "outputId": "0d31041f-3887-4a2d-ac09-35ca27a5f573"
      },
      "execution_count": null,
      "outputs": [
        {
          "output_type": "execute_result",
          "data": {
            "text/plain": [
              "{'Age': 50, 'Company': ['SpaceX', 'Tesla'], 'Name': 'Elon'}"
            ]
          },
          "metadata": {},
          "execution_count": 1
        }
      ]
    },
    {
      "cell_type": "code",
      "source": [
        "a = {\"Name\":\"Elon\",\"Age\":50,\"Company\":[\"SpaceX\",\"Tesla\"]}\n",
        "print(a[\"Name\"]) #Printing value based on its Key\n",
        "a[\"Age\"]= 51 #Changing values\n",
        "a"
      ],
      "metadata": {
        "id": "imTzyzXgF1j7",
        "colab": {
          "base_uri": "https://localhost:8080/"
        },
        "outputId": "4110d09f-12f7-48a0-d80f-a6ec33d66411"
      },
      "execution_count": null,
      "outputs": [
        {
          "output_type": "stream",
          "name": "stdout",
          "text": [
            "Elon\n"
          ]
        },
        {
          "output_type": "execute_result",
          "data": {
            "text/plain": [
              "{'Age': 51, 'Company': ['SpaceX', 'Tesla'], 'Name': 'Elon'}"
            ]
          },
          "metadata": {},
          "execution_count": 6
        }
      ]
    },
    {
      "cell_type": "code",
      "source": [
        "b={\"Climate\":{\"Condition\":{\"Temperature\":\"38 Degree\",\"Humidity\":\"70 Percentage\"}}}\n",
        "print(b[\"Climate\"][\"Condition\"][\"Humidity\"])\n",
        "print(b[\"Climate\"][\"Condition\"][\"Temperature\"])"
      ],
      "metadata": {
        "colab": {
          "base_uri": "https://localhost:8080/"
        },
        "id": "lPRibCPnGHWf",
        "outputId": "f833d9bb-4e75-407c-f0b4-05b9998ef73f"
      },
      "execution_count": null,
      "outputs": [
        {
          "output_type": "stream",
          "name": "stdout",
          "text": [
            "70 Percentage\n",
            "38 Degree\n"
          ]
        }
      ]
    },
    {
      "cell_type": "code",
      "source": [
        "print(a.keys()) #Printing Keys of the Dictionaries\n",
        "print(a.values()) #Printing Values of the Dictionaries\n",
        "print(a.items()) #Printing Tuple of the all items"
      ],
      "metadata": {
        "colab": {
          "base_uri": "https://localhost:8080/"
        },
        "id": "_AxYRG6PHQBs",
        "outputId": "30cc0d2f-a169-4dbd-eb2a-dde791cec497"
      },
      "execution_count": null,
      "outputs": [
        {
          "output_type": "stream",
          "name": "stdout",
          "text": [
            "dict_keys(['Name', 'Age', 'Company'])\n",
            "dict_values(['Elon', 51, ['SpaceX', 'Tesla']])\n",
            "dict_items([('Name', 'Elon'), ('Age', 51), ('Company', ['SpaceX', 'Tesla'])])\n"
          ]
        }
      ]
    },
    {
      "cell_type": "markdown",
      "source": [
        "#5. TUPLES"
      ],
      "metadata": {
        "id": "CXkxLdJgHy5e"
      }
    },
    {
      "cell_type": "markdown",
      "source": [
        "###Creating Tuples"
      ],
      "metadata": {
        "id": "cZBR0Hp3IDQH"
      }
    },
    {
      "cell_type": "code",
      "source": [
        "a = (\"Champ\",21,99.5)\n",
        "a"
      ],
      "metadata": {
        "colab": {
          "base_uri": "https://localhost:8080/"
        },
        "id": "KL8EOfCDIJ8Z",
        "outputId": "6bd1154d-324b-4b90-c3be-197d75c7f3b5"
      },
      "execution_count": null,
      "outputs": [
        {
          "output_type": "execute_result",
          "data": {
            "text/plain": [
              "('Champ', 21, 99.5)"
            ]
          },
          "metadata": {},
          "execution_count": 1
        }
      ]
    },
    {
      "cell_type": "code",
      "source": [
        "print(len(a)) #Length of tuple\n",
        "print(a[0]) #Printing elements from tuple via index\n",
        "print(a.index(\"Champ\")) #Getting Index of Elements"
      ],
      "metadata": {
        "colab": {
          "base_uri": "https://localhost:8080/"
        },
        "id": "e8Alks9iIvV1",
        "outputId": "7dcf6897-a38b-4ac4-97a1-dbeff1b24c9c"
      },
      "execution_count": null,
      "outputs": [
        {
          "output_type": "stream",
          "name": "stdout",
          "text": [
            "3\n",
            "Champ\n",
            "0\n"
          ]
        }
      ]
    },
    {
      "cell_type": "markdown",
      "source": [
        "#6. SETS"
      ],
      "metadata": {
        "id": "NOJSlqp6ylrn"
      }
    },
    {
      "cell_type": "markdown",
      "source": [
        "##Creating Set"
      ],
      "metadata": {
        "id": "aes7rE5SywdG"
      }
    },
    {
      "cell_type": "code",
      "source": [
        "a = set()\n",
        "a.add(\"Champ\")\n",
        "a\n",
        "a.add(30)\n",
        "a"
      ],
      "metadata": {
        "colab": {
          "base_uri": "https://localhost:8080/"
        },
        "id": "UCwpib5mzOdQ",
        "outputId": "1a96c984-a113-40b8-b338-fd84c6f8ebeb"
      },
      "execution_count": null,
      "outputs": [
        {
          "output_type": "execute_result",
          "data": {
            "text/plain": [
              "{30, 'Champ'}"
            ]
          },
          "metadata": {},
          "execution_count": 2
        }
      ]
    },
    {
      "cell_type": "code",
      "source": [
        "b = [\"Champ\",21,99.5]\n",
        "set(b)"
      ],
      "metadata": {
        "colab": {
          "base_uri": "https://localhost:8080/"
        },
        "id": "DUMNxVWk3Kf1",
        "outputId": "9519a18c-d5e8-42f0-9a8c-2def4033925f"
      },
      "execution_count": null,
      "outputs": [
        {
          "output_type": "execute_result",
          "data": {
            "text/plain": [
              "{21, 99.5, 'Champ'}"
            ]
          },
          "metadata": {},
          "execution_count": 3
        }
      ]
    },
    {
      "cell_type": "markdown",
      "source": [
        "#7. BOOLEAN\n"
      ],
      "metadata": {
        "id": "L3UNbkjK3xGs"
      }
    },
    {
      "cell_type": "markdown",
      "source": [
        "###Creating Boolean"
      ],
      "metadata": {
        "id": "oBA_UamQ344M"
      }
    },
    {
      "cell_type": "code",
      "source": [
        "a = True"
      ],
      "metadata": {
        "id": "0eltaJTe4Eul"
      },
      "execution_count": null,
      "outputs": []
    },
    {
      "cell_type": "code",
      "source": [
        "a=False"
      ],
      "metadata": {
        "id": "JSA8wD-e4ZL8"
      },
      "execution_count": null,
      "outputs": []
    },
    {
      "cell_type": "code",
      "source": [
        "a = 10\n",
        "b = 5\n",
        "c=15\n",
        "print(a<b)\n",
        "print(a>b)\n",
        "print(a==b)\n",
        "print(a!=b)\n",
        "print(a<=b)\n",
        "print(a>=b)\n",
        "print(a<b and c>a)\n",
        "print(a<b or c>a)"
      ],
      "metadata": {
        "colab": {
          "base_uri": "https://localhost:8080/"
        },
        "id": "J4BdWg1M4fc8",
        "outputId": "73245e86-f7e1-4498-ce20-3d5db7418c57"
      },
      "execution_count": null,
      "outputs": [
        {
          "output_type": "stream",
          "name": "stdout",
          "text": [
            "False\n",
            "True\n",
            "False\n",
            "True\n",
            "False\n",
            "True\n",
            "False\n",
            "True\n"
          ]
        }
      ]
    },
    {
      "cell_type": "markdown",
      "source": [
        "#8.Python Statements"
      ],
      "metadata": {
        "id": "vqiwL12L7Yn4"
      }
    },
    {
      "cell_type": "markdown",
      "source": [
        "###If"
      ],
      "metadata": {
        "id": "StLEpahw7byq"
      }
    },
    {
      "cell_type": "code",
      "source": [
        "a = True\n",
        "if a:\n",
        "  print(\"Positive\")\n",
        "else:\n",
        "  print(\"negative\")"
      ],
      "metadata": {
        "colab": {
          "base_uri": "https://localhost:8080/"
        },
        "id": "p2GrfWTw712I",
        "outputId": "35f91452-11f2-4d01-c6ef-d94308a404bb"
      },
      "execution_count": null,
      "outputs": [
        {
          "output_type": "stream",
          "name": "stdout",
          "text": [
            "Positive\n"
          ]
        }
      ]
    },
    {
      "cell_type": "code",
      "source": [
        "a = False\n",
        "if a:\n",
        "  print(\"Positive\")\n",
        "else:\n",
        "  print(\"negative\")"
      ],
      "metadata": {
        "colab": {
          "base_uri": "https://localhost:8080/"
        },
        "id": "xiowCuVs8ID4",
        "outputId": "79422965-028b-4e99-d458-e8dcd61166d0"
      },
      "execution_count": null,
      "outputs": [
        {
          "output_type": "stream",
          "name": "stdout",
          "text": [
            "negative\n"
          ]
        }
      ]
    },
    {
      "cell_type": "code",
      "source": [
        "a=10\n",
        "b=6\n",
        "c=6\n",
        "\n",
        "if a<b:\n",
        "  print(\"a less than b\")\n",
        "elif c==b:\n",
        "  print(\"a is equal to b\")\n",
        "  print(\"a is not less than b\")\n",
        "  if c<a:\n",
        "    print(\"c is less than b\")\n",
        "else:\n",
        "  print(\"a is not less than b\")"
      ],
      "metadata": {
        "colab": {
          "base_uri": "https://localhost:8080/"
        },
        "id": "Y81j1ZZM-Dxe",
        "outputId": "aa99b0eb-6961-42d5-9c0e-14e64ad199cb"
      },
      "execution_count": null,
      "outputs": [
        {
          "output_type": "stream",
          "name": "stdout",
          "text": [
            "a is equal to b\n",
            "a is not less than b\n",
            "c is less than b\n"
          ]
        }
      ]
    },
    {
      "cell_type": "markdown",
      "source": [
        "#For"
      ],
      "metadata": {
        "id": "XKAIXG6d-voA"
      }
    },
    {
      "cell_type": "code",
      "source": [
        "a = [1,2,3,4,5,6,7,8,9,10]\n",
        "for i in a:\n",
        "  print(i)"
      ],
      "metadata": {
        "colab": {
          "base_uri": "https://localhost:8080/"
        },
        "id": "WWgw57EG-yuR",
        "outputId": "5dc6e152-070a-46ae-cabf-7f9c19314372"
      },
      "execution_count": null,
      "outputs": [
        {
          "output_type": "stream",
          "name": "stdout",
          "text": [
            "1\n",
            "2\n",
            "3\n",
            "4\n",
            "5\n",
            "6\n",
            "7\n",
            "8\n",
            "9\n",
            "10\n"
          ]
        }
      ]
    },
    {
      "cell_type": "markdown",
      "source": [
        "### Display in the form of list"
      ],
      "metadata": {
        "id": "93m_fu1w_u0H"
      }
    },
    {
      "cell_type": "code",
      "source": [
        "a = [i for i in 'Champ']\n",
        "a"
      ],
      "metadata": {
        "colab": {
          "base_uri": "https://localhost:8080/"
        },
        "id": "c1KGziGk--9r",
        "outputId": "91e0d0f9-9dea-4841-db3c-0268660f8ac5"
      },
      "execution_count": null,
      "outputs": [
        {
          "output_type": "execute_result",
          "data": {
            "text/plain": [
              "['C', 'h', 'a', 'm', 'p']"
            ]
          },
          "metadata": {},
          "execution_count": 12
        }
      ]
    },
    {
      "cell_type": "markdown",
      "source": [
        "#Odd & Even Number"
      ],
      "metadata": {
        "id": "1F7iyqPeAKDP"
      }
    },
    {
      "cell_type": "code",
      "source": [
        "a = [1,2,3,4,5,6,7,8,9,10]\n",
        "for i in a:\n",
        "  if i % 2 == 0:\n",
        "    print(i,\"Even Number\")\n",
        "  else:\n",
        "    print(i,\"Odd Number\")"
      ],
      "metadata": {
        "id": "LKJ0ACheANQr",
        "colab": {
          "base_uri": "https://localhost:8080/"
        },
        "outputId": "db898e87-449e-4a9e-fb1c-711974972ca0"
      },
      "execution_count": null,
      "outputs": [
        {
          "output_type": "stream",
          "name": "stdout",
          "text": [
            "1 Odd Number\n",
            "2 Even Number\n",
            "3 Odd Number\n",
            "4 Even Number\n",
            "5 Odd Number\n",
            "6 Even Number\n",
            "7 Odd Number\n",
            "8 Even Number\n",
            "9 Odd Number\n",
            "10 Even Number\n"
          ]
        }
      ]
    },
    {
      "cell_type": "markdown",
      "source": [
        "#String - For"
      ],
      "metadata": {
        "id": "jpOdR_VWA4st"
      }
    },
    {
      "cell_type": "code",
      "source": [
        "for a in \"Hello all\":\n",
        "  print(a)"
      ],
      "metadata": {
        "id": "dLCKwbvsA_5Q",
        "colab": {
          "base_uri": "https://localhost:8080/"
        },
        "outputId": "46ad03da-f53b-4aa2-f9f9-6b21902a5e1b"
      },
      "execution_count": null,
      "outputs": [
        {
          "output_type": "stream",
          "name": "stdout",
          "text": [
            "H\n",
            "e\n",
            "l\n",
            "l\n",
            "o\n",
            " \n",
            "a\n",
            "l\n",
            "l\n"
          ]
        }
      ]
    },
    {
      "cell_type": "markdown",
      "source": [
        "#Dictionary - For"
      ],
      "metadata": {
        "id": "rLiGdxF_BU2m"
      }
    },
    {
      "cell_type": "code",
      "source": [
        "a = {\"Name\":\"Elon\",\"Age\":50,\"Company\":[\"SpaceX\",\"Tesla\"]}\n",
        "for k,v in a.items():\n",
        "  print(k)\n",
        "  print(v)\n",
        "  #print(v)"
      ],
      "metadata": {
        "colab": {
          "base_uri": "https://localhost:8080/"
        },
        "id": "z0m-hqQoBYaP",
        "outputId": "eedaf4c1-888d-40fe-9e81-cecf2330bfaa"
      },
      "execution_count": null,
      "outputs": [
        {
          "output_type": "stream",
          "name": "stdout",
          "text": [
            "Name\n",
            "Elon\n",
            "Age\n",
            "50\n",
            "Company\n",
            "['SpaceX', 'Tesla']\n"
          ]
        }
      ]
    },
    {
      "cell_type": "markdown",
      "source": [
        "#While"
      ],
      "metadata": {
        "id": "KZ67Bj6sDiYk"
      }
    },
    {
      "cell_type": "code",
      "source": [
        "a=0\n",
        "while a <11:\n",
        "  print(a)\n",
        "  a+=1 #a=a+1"
      ],
      "metadata": {
        "id": "lTHlEI2sDk-m",
        "colab": {
          "base_uri": "https://localhost:8080/"
        },
        "outputId": "2d75a316-2b78-48a8-b4d4-79ffbd2d0f04"
      },
      "execution_count": null,
      "outputs": [
        {
          "output_type": "stream",
          "name": "stdout",
          "text": [
            "0\n",
            "1\n",
            "2\n",
            "3\n",
            "4\n",
            "5\n",
            "6\n",
            "7\n",
            "8\n",
            "9\n",
            "10\n"
          ]
        }
      ]
    },
    {
      "cell_type": "markdown",
      "source": [
        "#While - Break & Continue"
      ],
      "metadata": {
        "id": "3JINxNkPEn9a"
      }
    },
    {
      "cell_type": "code",
      "source": [
        "a=0\n",
        "while a < 10:\n",
        "  print(a)\n",
        "  a+=1\n",
        "  if a==5:\n",
        "    print(\"a is equal to 5\")\n",
        "    break\n",
        "  else:\n",
        "    print(\"Continueeee\")\n",
        "    continue"
      ],
      "metadata": {
        "id": "JgBELQl0E2W3",
        "colab": {
          "base_uri": "https://localhost:8080/"
        },
        "outputId": "86d1d567-f90e-481f-ba0b-9c95d84a4bb8"
      },
      "execution_count": null,
      "outputs": [
        {
          "output_type": "stream",
          "name": "stdout",
          "text": [
            "0\n",
            "Continueeee\n",
            "1\n",
            "Continueeee\n",
            "2\n",
            "Continueeee\n",
            "3\n",
            "Continueeee\n",
            "4\n",
            "a is equal to 5\n"
          ]
        }
      ]
    },
    {
      "cell_type": "markdown",
      "source": [
        "#Range"
      ],
      "metadata": {
        "id": "C__t3ouFFRV1"
      }
    },
    {
      "cell_type": "code",
      "source": [
        "for a in range (6):\n",
        "  print(a)"
      ],
      "metadata": {
        "colab": {
          "base_uri": "https://localhost:8080/"
        },
        "id": "5iI32bUlFYnk",
        "outputId": "6adcf159-eeda-408d-c048-2337cc208369"
      },
      "execution_count": null,
      "outputs": [
        {
          "output_type": "stream",
          "name": "stdout",
          "text": [
            "0\n",
            "1\n",
            "2\n",
            "3\n",
            "4\n",
            "5\n"
          ]
        }
      ]
    },
    {
      "cell_type": "code",
      "source": [
        "for a in range (1,10,1):\n",
        "  print(a)"
      ],
      "metadata": {
        "id": "NJ6kjYaGFnxZ",
        "colab": {
          "base_uri": "https://localhost:8080/"
        },
        "outputId": "8effa649-e547-41e9-d4b2-888976fefb3b"
      },
      "execution_count": null,
      "outputs": [
        {
          "output_type": "stream",
          "name": "stdout",
          "text": [
            "1\n",
            "2\n",
            "3\n",
            "4\n",
            "5\n",
            "6\n",
            "7\n",
            "8\n",
            "9\n"
          ]
        }
      ]
    },
    {
      "cell_type": "code",
      "source": [
        "for a in range (1,10,2):\n",
        "  print(a)"
      ],
      "metadata": {
        "id": "1rM7k2j9GZo4",
        "colab": {
          "base_uri": "https://localhost:8080/"
        },
        "outputId": "643b5521-4e20-4e79-acf8-331ba6687489"
      },
      "execution_count": null,
      "outputs": [
        {
          "output_type": "stream",
          "name": "stdout",
          "text": [
            "1\n",
            "3\n",
            "5\n",
            "7\n",
            "9\n"
          ]
        }
      ]
    },
    {
      "cell_type": "code",
      "source": [
        "for a in range (10,0,-2):#decreament by 2\n",
        "  print(a)"
      ],
      "metadata": {
        "id": "i3PxrdD0HUyj",
        "colab": {
          "base_uri": "https://localhost:8080/"
        },
        "outputId": "52ffdc99-6e37-47ff-e85e-13771667ee58"
      },
      "execution_count": null,
      "outputs": [
        {
          "output_type": "stream",
          "name": "stdout",
          "text": [
            "10\n",
            "8\n",
            "6\n",
            "4\n",
            "2\n"
          ]
        }
      ]
    },
    {
      "cell_type": "code",
      "source": [
        "for a in range (10,0,-3):\n",
        "  print(a)"
      ],
      "metadata": {
        "id": "-TnYvOlRHtss",
        "colab": {
          "base_uri": "https://localhost:8080/"
        },
        "outputId": "35f8192c-c5ce-42a5-ccaa-738446838661"
      },
      "execution_count": null,
      "outputs": [
        {
          "output_type": "stream",
          "name": "stdout",
          "text": [
            "10\n",
            "7\n",
            "4\n",
            "1\n"
          ]
        }
      ]
    },
    {
      "cell_type": "markdown",
      "source": [
        "#Root"
      ],
      "metadata": {
        "id": "S_-dWdQCIL_r"
      }
    },
    {
      "cell_type": "code",
      "source": [
        "a = [i**2 for i in range(0,5)]\n",
        "a"
      ],
      "metadata": {
        "colab": {
          "base_uri": "https://localhost:8080/"
        },
        "id": "Zyjf6M7fIQ7a",
        "outputId": "deac9a43-f2db-452b-9037-2fec1c5ff5fe"
      },
      "execution_count": null,
      "outputs": [
        {
          "output_type": "execute_result",
          "data": {
            "text/plain": [
              "[0, 1, 4, 9, 16]"
            ]
          },
          "metadata": {},
          "execution_count": 7
        }
      ]
    },
    {
      "cell_type": "code",
      "source": [
        "a = [i for i in range(10) if i % 2 == 0]\n",
        "a"
      ],
      "metadata": {
        "id": "4Z76DKIWIqXx",
        "colab": {
          "base_uri": "https://localhost:8080/"
        },
        "outputId": "bad96afc-dfcd-4f62-89c4-cad7b3e49583"
      },
      "execution_count": null,
      "outputs": [
        {
          "output_type": "execute_result",
          "data": {
            "text/plain": [
              "[0, 2, 4, 6, 8]"
            ]
          },
          "metadata": {},
          "execution_count": 8
        }
      ]
    },
    {
      "cell_type": "markdown",
      "source": [
        "##Enumerate - To track no. of iteration in the loop, without working with variable increament"
      ],
      "metadata": {
        "id": "XL_BkhzEJJxq"
      }
    },
    {
      "cell_type": "code",
      "source": [
        "a=0\n",
        "for i,a in enumerate(\"Hello Champ\"):\n",
        "  print(i,a)"
      ],
      "metadata": {
        "id": "04uYk-iuJOWo",
        "colab": {
          "base_uri": "https://localhost:8080/"
        },
        "outputId": "e9dcd81e-0014-42fe-cb4f-e95523688456"
      },
      "execution_count": null,
      "outputs": [
        {
          "output_type": "stream",
          "name": "stdout",
          "text": [
            "0 H\n",
            "1 e\n",
            "2 l\n",
            "3 l\n",
            "4 o\n",
            "5  \n",
            "6 C\n",
            "7 h\n",
            "8 a\n",
            "9 m\n",
            "10 p\n"
          ]
        }
      ]
    },
    {
      "cell_type": "markdown",
      "source": [
        "##Zip - Creating a tuples by zipping 2 list"
      ],
      "metadata": {
        "id": "3awp0By3Kgl5"
      }
    },
    {
      "cell_type": "code",
      "source": [
        "a = [\"Name\",\"Age\",\"Country\"]\n",
        "b = [\"Champ\",27,\"India\"]\n",
        "list(zip(a,b))"
      ],
      "metadata": {
        "colab": {
          "base_uri": "https://localhost:8080/"
        },
        "id": "HN-IwGisKlmV",
        "outputId": "8422b93e-bf42-4903-dcc4-b76bd3dd6384"
      },
      "execution_count": null,
      "outputs": [
        {
          "output_type": "execute_result",
          "data": {
            "text/plain": [
              "[('Name', 'Champ'), ('Age', 27), ('Country', 'India')]"
            ]
          },
          "metadata": {},
          "execution_count": 28
        }
      ]
    }
  ]
}